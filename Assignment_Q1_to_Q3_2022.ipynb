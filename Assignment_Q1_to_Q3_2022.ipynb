{
  "cells": [
    {
      "cell_type": "markdown",
      "metadata": {
        "id": "view-in-github",
        "colab_type": "text"
      },
      "source": [
        "<a href=\"https://colab.research.google.com/github/vanvan7/DataMining_and_MachineLearning/blob/master/Assignment_Q1_to_Q3_2022.ipynb\" target=\"_parent\"><img src=\"https://colab.research.google.com/assets/colab-badge.svg\" alt=\"Open In Colab\"/></a>"
      ]
    },
    {
      "cell_type": "markdown",
      "id": "af19791f",
      "metadata": {
        "id": "af19791f"
      },
      "source": [
        "# Data Mining and Machine Learning - Assignment questions 1 to 3\n",
        "\n",
        "> Topics Covered: Data Cleaning, Exploratory Data Analysis, Visualization and Regression \n",
        "\n",
        "**Due: Oct 16 @23.59 (Lausanne Time)**\n",
        "\n",
        "\n",
        "This assignment is the opportunity to apply the different concepts seen in class so far to a new dataset on the life expectancy.\n",
        "\n",
        "Run the first few cells to load the dataset and then get started with the questions! **Pay attention:** in order to start working, open the notebook in Colab, and make sure to make a copy of the notebook in your private Google Drive. After you finished, export the notebook as a .ipynb file and upload it on Moodle (Section \"Assignment\").\n",
        "\n",
        "To complete the assignment you have to do ***both***:\n",
        "\n",
        "1. Complete the exercises and submit your Python notebook\n",
        "2. Answer the questions to the quiz on Moodle\n",
        ">Note: You can only complete the quiz one time. Have your notebook with the answers ready for answering the quiz. The quiz will be made available Monday 10th October at 7p.m.\n",
        "\n",
        "Only the quiz questions accounts for your grade. Nevertheless, the answers to the quiz should be supported by your code in the notebook. If they are not, you will not receive points for them. \n",
        "\n",
        "**IMPORTANT!** You can discuss the questions with other students but **do not exchange code!** This is individual work. We will run your code and check for similarities. In case of high similarity scores between two notebooks, both the authors will get 0 points for the assignment.\n",
        "\n",
        "You can post your questions in slack channel #assignments.\n",
        "\n",
        "\n",
        "If there is need for further clarifications on the questions, after the assignment is released, we will update the file on GitHub, so make sure you check the git repo of the class for updates.\n",
        "\n",
        "Good luck!"
      ]
    },
    {
      "cell_type": "markdown",
      "id": "5400e551",
      "metadata": {
        "id": "5400e551"
      },
      "source": [
        "[![Open in Colab](https://colab.research.google.com/assets/colab-badge.svg)](https://colab.research.google.com/github/michalis0/DataMining_and_MachineLearning/blob/master/Assignment/Assignment_Q1_to_Q3_2022/Assignment_Q1_to_Q3_2022.ipynb)\n",
        "\n",
        "\n",
        "\n",
        "\n"
      ]
    },
    {
      "cell_type": "code",
      "execution_count": null,
      "id": "a9c653d4",
      "metadata": {
        "id": "a9c653d4"
      },
      "outputs": [],
      "source": [
        "# Import required packages\n",
        "\n",
        "import pandas as pd\n",
        "import numpy as np\n",
        "import matplotlib.pyplot as plt\n",
        "import seaborn as sns\n",
        "%matplotlib inline\n",
        "sns.set_style(\"whitegrid\")"
      ]
    },
    {
      "cell_type": "code",
      "execution_count": null,
      "id": "ac8305d0",
      "metadata": {
        "id": "ac8305d0"
      },
      "outputs": [],
      "source": [
        "# Load the data\n",
        "df = pd.read_csv(\"/content/drive/MyDrive/Colab Notebooks/Life Expectancy Data.csv\")"
      ]
    },
    {
      "cell_type": "code",
      "source": [
        "from google.colab import drive\n",
        "drive.mount('/content/drive')"
      ],
      "metadata": {
        "id": "MRKU-sZ2F5rl",
        "outputId": "7ea6e081-ddaf-4544-889d-96e0d4f2ac93",
        "colab": {
          "base_uri": "https://localhost:8080/"
        }
      },
      "id": "MRKU-sZ2F5rl",
      "execution_count": null,
      "outputs": [
        {
          "output_type": "stream",
          "name": "stdout",
          "text": [
            "Mounted at /content/drive\n"
          ]
        }
      ]
    },
    {
      "cell_type": "markdown",
      "id": "20330efe",
      "metadata": {
        "id": "20330efe"
      },
      "source": [
        "For this assignment, we use data gathered by the WHO (World Health Organization) regarding many countries, over several years. The dataset includes information on items purchased from this store, including for each item or article:\n",
        "* **Country**\n",
        "* **Year**: year of the measurement\n",
        "* **Status**: Developed or Developing status\n",
        "* **Life expectancy**: Life Expectancy in years\n",
        "* **Adult Mortality**: Adult Mortality Rates of both sexes (probability of dying between 15 and 60 years per 1000 population)\n",
        "* **Alcohol**: Alcohol, recorded per capita (individuals aged 15+) consumption (in litres of pure alcohol)\n",
        "* **Hepatitis B**: Hepatitis B (HepB) immunization coverage among 1-year-olds (%)\n",
        "* **Measles**: Measles - number of reported cases per 1000 population\n",
        "* **BMI**: Average Body Mass Index of entire population\n",
        "* **under-five deaths**: Number of under-five deaths per 1000 population\n",
        "* **Polio**: Polio (Pol3) immunization coverage among 1-year-olds (%)\n",
        "* **Total expenditure**: General government expenditure on health as a percentage of total government expenditure (%)\n",
        "* **Diphtheria**: Diphtheria tetanus toxoid and pertussis (DTP3) immunization coverage among 1-year-olds (%)\n",
        "* **HIV/AIDS**: Deaths per 1 000 live births HIV/AIDS (0-4 years)\n",
        "* **GDP**: Gross Domestic Product per capita (in USD)\n",
        "* **Population**: Population of the country\n",
        "* **thinness 1-19 years**: Proportion of thinness among children and adolescents for Age 10 to 19 (in %)\n",
        "* **thinness 5-9 years**: Proportion of thinness among children for Age 5 to 9 (in %)\n",
        "* **Income composition of resources**: Human Development Index in terms of income composition of resources (index ranging from 0 to 1)\n",
        "* **Schooling**: Number of years of schooling"
      ]
    },
    {
      "cell_type": "markdown",
      "id": "2a292c91",
      "metadata": {
        "id": "2a292c91"
      },
      "source": [
        "## 1. Understand and Clean the Dataset\n",
        "### 1.1 Initial exploration\n",
        "\n",
        ">1.1.1 Show the first 5 or 10 rows to get an idea of the data. "
      ]
    },
    {
      "cell_type": "code",
      "execution_count": null,
      "id": "57577de4",
      "metadata": {
        "id": "57577de4",
        "colab": {
          "base_uri": "https://localhost:8080/",
          "height": 822
        },
        "outputId": "7dacc02b-e004-4d25-8580-4f9efca32918"
      },
      "outputs": [
        {
          "output_type": "execute_result",
          "data": {
            "text/plain": [
              "        Country  Year      Status  Life expectancy   Adult Mortality  \\\n",
              "0   Afghanistan  2015  Developing              65.0            263.0   \n",
              "1   Afghanistan  2014  Developing              59.9            271.0   \n",
              "2   Afghanistan  2013  Developing              59.9            268.0   \n",
              "3   Afghanistan  2012  Developing              59.5            272.0   \n",
              "4   Afghanistan  2011  Developing              59.2            275.0   \n",
              "5   Afghanistan  2010  Developing              58.8            279.0   \n",
              "6   Afghanistan  2009  Developing              58.6            281.0   \n",
              "7   Afghanistan  2008  Developing              58.1            287.0   \n",
              "8   Afghanistan  2007  Developing              57.5            295.0   \n",
              "9   Afghanistan  2006  Developing              57.3            295.0   \n",
              "10  Afghanistan  2005  Developing              57.3            291.0   \n",
              "11  Afghanistan  2004  Developing              57.0            293.0   \n",
              "12  Afghanistan  2003  Developing              56.7            295.0   \n",
              "13  Afghanistan  2002  Developing              56.2              3.0   \n",
              "14  Afghanistan  2001  Developing              55.3            316.0   \n",
              "15  Afghanistan  2000  Developing              54.8            321.0   \n",
              "16      Albania  2015  Developing              77.8             74.0   \n",
              "17      Albania  2014  Developing              77.5              8.0   \n",
              "18      Albania  2013  Developing              77.2             84.0   \n",
              "19      Albania  2012  Developing              76.9             86.0   \n",
              "\n",
              "    infant deaths  Alcohol  percentage expenditure  Hepatitis B  Measles   \\\n",
              "0              62     0.01               71.279624         65.0      1154   \n",
              "1              64     0.01               73.523582         62.0       492   \n",
              "2              66     0.01               73.219243         64.0       430   \n",
              "3              69     0.01               78.184215         67.0      2787   \n",
              "4              71     0.01                7.097109         68.0      3013   \n",
              "5              74     0.01               79.679367         66.0      1989   \n",
              "6              77     0.01               56.762217         63.0      2861   \n",
              "7              80     0.03               25.873925         64.0      1599   \n",
              "8              82     0.02               10.910156         63.0      1141   \n",
              "9              84     0.03               17.171518         64.0      1990   \n",
              "10             85     0.02                1.388648         66.0      1296   \n",
              "11             87     0.02               15.296066         67.0       466   \n",
              "12             87     0.01               11.089053         65.0       798   \n",
              "13             88     0.01               16.887351         64.0      2486   \n",
              "14             88     0.01               10.574728         63.0      8762   \n",
              "15             88     0.01               10.424960         62.0      6532   \n",
              "16              0     4.60              364.975229         99.0         0   \n",
              "17              0     4.51              428.749067         98.0         0   \n",
              "18              0     4.76              430.876979         99.0         0   \n",
              "19              0     5.14              412.443356         99.0         9   \n",
              "\n",
              "    ...  Polio  Total expenditure  Diphtheria    HIV/AIDS          GDP  \\\n",
              "0   ...    6.0               8.16         65.0        0.1   584.259210   \n",
              "1   ...   58.0               8.18         62.0        0.1   612.696514   \n",
              "2   ...   62.0               8.13         64.0        0.1   631.744976   \n",
              "3   ...   67.0               8.52         67.0        0.1   669.959000   \n",
              "4   ...   68.0               7.87         68.0        0.1    63.537231   \n",
              "5   ...   66.0               9.20         66.0        0.1   553.328940   \n",
              "6   ...   63.0               9.42         63.0        0.1   445.893298   \n",
              "7   ...   64.0               8.33         64.0        0.1   373.361116   \n",
              "8   ...   63.0               6.73         63.0        0.1   369.835796   \n",
              "9   ...   58.0               7.43         58.0        0.1   272.563770   \n",
              "10  ...   58.0               8.70         58.0        0.1    25.294130   \n",
              "11  ...    5.0               8.79          5.0        0.1   219.141353   \n",
              "12  ...   41.0               8.82         41.0        0.1   198.728544   \n",
              "13  ...   36.0               7.76         36.0        0.1   187.845950   \n",
              "14  ...   35.0               7.80         33.0        0.1   117.496980   \n",
              "15  ...   24.0               8.20         24.0        0.1   114.560000   \n",
              "16  ...   99.0               6.00         99.0        0.1  3954.227830   \n",
              "17  ...   98.0               5.88         98.0        0.1  4575.763787   \n",
              "18  ...   99.0               5.66         99.0        0.1  4414.723140   \n",
              "19  ...   99.0               5.59         99.0        0.1  4247.614380   \n",
              "\n",
              "    Population   thinness  1-19 years   thinness 5-9 years  \\\n",
              "0   33736494.0                   17.2                 17.3   \n",
              "1     327582.0                   17.5                 17.5   \n",
              "2   31731688.0                   17.7                 17.7   \n",
              "3    3696958.0                   17.9                 18.0   \n",
              "4    2978599.0                   18.2                 18.2   \n",
              "5    2883167.0                   18.4                 18.4   \n",
              "6     284331.0                   18.6                 18.7   \n",
              "7    2729431.0                   18.8                 18.9   \n",
              "8   26616792.0                   19.0                 19.1   \n",
              "9    2589345.0                   19.2                 19.3   \n",
              "10    257798.0                   19.3                 19.5   \n",
              "11  24118979.0                   19.5                 19.7   \n",
              "12   2364851.0                   19.7                 19.9   \n",
              "13  21979923.0                   19.9                  2.2   \n",
              "14   2966463.0                    2.1                  2.4   \n",
              "15    293756.0                    2.3                  2.5   \n",
              "16     28873.0                    1.2                  1.3   \n",
              "17    288914.0                    1.2                  1.3   \n",
              "18    289592.0                    1.3                  1.4   \n",
              "19      2941.0                    1.3                  1.4   \n",
              "\n",
              "    Income composition of resources  Schooling  \n",
              "0                             0.479       10.1  \n",
              "1                             0.476       10.0  \n",
              "2                             0.470        9.9  \n",
              "3                             0.463        9.8  \n",
              "4                             0.454        9.5  \n",
              "5                             0.448        9.2  \n",
              "6                             0.434        8.9  \n",
              "7                             0.433        8.7  \n",
              "8                             0.415        8.4  \n",
              "9                             0.405        8.1  \n",
              "10                            0.396        7.9  \n",
              "11                            0.381        6.8  \n",
              "12                            0.373        6.5  \n",
              "13                            0.341        6.2  \n",
              "14                            0.340        5.9  \n",
              "15                            0.338        5.5  \n",
              "16                            0.762       14.2  \n",
              "17                            0.761       14.2  \n",
              "18                            0.759       14.2  \n",
              "19                            0.752       14.2  \n",
              "\n",
              "[20 rows x 22 columns]"
            ],
            "text/html": [
              "\n",
              "  <div id=\"df-125079ba-d02d-4d9e-9276-e096d7cabe0b\">\n",
              "    <div class=\"colab-df-container\">\n",
              "      <div>\n",
              "<style scoped>\n",
              "    .dataframe tbody tr th:only-of-type {\n",
              "        vertical-align: middle;\n",
              "    }\n",
              "\n",
              "    .dataframe tbody tr th {\n",
              "        vertical-align: top;\n",
              "    }\n",
              "\n",
              "    .dataframe thead th {\n",
              "        text-align: right;\n",
              "    }\n",
              "</style>\n",
              "<table border=\"1\" class=\"dataframe\">\n",
              "  <thead>\n",
              "    <tr style=\"text-align: right;\">\n",
              "      <th></th>\n",
              "      <th>Country</th>\n",
              "      <th>Year</th>\n",
              "      <th>Status</th>\n",
              "      <th>Life expectancy</th>\n",
              "      <th>Adult Mortality</th>\n",
              "      <th>infant deaths</th>\n",
              "      <th>Alcohol</th>\n",
              "      <th>percentage expenditure</th>\n",
              "      <th>Hepatitis B</th>\n",
              "      <th>Measles</th>\n",
              "      <th>...</th>\n",
              "      <th>Polio</th>\n",
              "      <th>Total expenditure</th>\n",
              "      <th>Diphtheria</th>\n",
              "      <th>HIV/AIDS</th>\n",
              "      <th>GDP</th>\n",
              "      <th>Population</th>\n",
              "      <th>thinness  1-19 years</th>\n",
              "      <th>thinness 5-9 years</th>\n",
              "      <th>Income composition of resources</th>\n",
              "      <th>Schooling</th>\n",
              "    </tr>\n",
              "  </thead>\n",
              "  <tbody>\n",
              "    <tr>\n",
              "      <th>0</th>\n",
              "      <td>Afghanistan</td>\n",
              "      <td>2015</td>\n",
              "      <td>Developing</td>\n",
              "      <td>65.0</td>\n",
              "      <td>263.0</td>\n",
              "      <td>62</td>\n",
              "      <td>0.01</td>\n",
              "      <td>71.279624</td>\n",
              "      <td>65.0</td>\n",
              "      <td>1154</td>\n",
              "      <td>...</td>\n",
              "      <td>6.0</td>\n",
              "      <td>8.16</td>\n",
              "      <td>65.0</td>\n",
              "      <td>0.1</td>\n",
              "      <td>584.259210</td>\n",
              "      <td>33736494.0</td>\n",
              "      <td>17.2</td>\n",
              "      <td>17.3</td>\n",
              "      <td>0.479</td>\n",
              "      <td>10.1</td>\n",
              "    </tr>\n",
              "    <tr>\n",
              "      <th>1</th>\n",
              "      <td>Afghanistan</td>\n",
              "      <td>2014</td>\n",
              "      <td>Developing</td>\n",
              "      <td>59.9</td>\n",
              "      <td>271.0</td>\n",
              "      <td>64</td>\n",
              "      <td>0.01</td>\n",
              "      <td>73.523582</td>\n",
              "      <td>62.0</td>\n",
              "      <td>492</td>\n",
              "      <td>...</td>\n",
              "      <td>58.0</td>\n",
              "      <td>8.18</td>\n",
              "      <td>62.0</td>\n",
              "      <td>0.1</td>\n",
              "      <td>612.696514</td>\n",
              "      <td>327582.0</td>\n",
              "      <td>17.5</td>\n",
              "      <td>17.5</td>\n",
              "      <td>0.476</td>\n",
              "      <td>10.0</td>\n",
              "    </tr>\n",
              "    <tr>\n",
              "      <th>2</th>\n",
              "      <td>Afghanistan</td>\n",
              "      <td>2013</td>\n",
              "      <td>Developing</td>\n",
              "      <td>59.9</td>\n",
              "      <td>268.0</td>\n",
              "      <td>66</td>\n",
              "      <td>0.01</td>\n",
              "      <td>73.219243</td>\n",
              "      <td>64.0</td>\n",
              "      <td>430</td>\n",
              "      <td>...</td>\n",
              "      <td>62.0</td>\n",
              "      <td>8.13</td>\n",
              "      <td>64.0</td>\n",
              "      <td>0.1</td>\n",
              "      <td>631.744976</td>\n",
              "      <td>31731688.0</td>\n",
              "      <td>17.7</td>\n",
              "      <td>17.7</td>\n",
              "      <td>0.470</td>\n",
              "      <td>9.9</td>\n",
              "    </tr>\n",
              "    <tr>\n",
              "      <th>3</th>\n",
              "      <td>Afghanistan</td>\n",
              "      <td>2012</td>\n",
              "      <td>Developing</td>\n",
              "      <td>59.5</td>\n",
              "      <td>272.0</td>\n",
              "      <td>69</td>\n",
              "      <td>0.01</td>\n",
              "      <td>78.184215</td>\n",
              "      <td>67.0</td>\n",
              "      <td>2787</td>\n",
              "      <td>...</td>\n",
              "      <td>67.0</td>\n",
              "      <td>8.52</td>\n",
              "      <td>67.0</td>\n",
              "      <td>0.1</td>\n",
              "      <td>669.959000</td>\n",
              "      <td>3696958.0</td>\n",
              "      <td>17.9</td>\n",
              "      <td>18.0</td>\n",
              "      <td>0.463</td>\n",
              "      <td>9.8</td>\n",
              "    </tr>\n",
              "    <tr>\n",
              "      <th>4</th>\n",
              "      <td>Afghanistan</td>\n",
              "      <td>2011</td>\n",
              "      <td>Developing</td>\n",
              "      <td>59.2</td>\n",
              "      <td>275.0</td>\n",
              "      <td>71</td>\n",
              "      <td>0.01</td>\n",
              "      <td>7.097109</td>\n",
              "      <td>68.0</td>\n",
              "      <td>3013</td>\n",
              "      <td>...</td>\n",
              "      <td>68.0</td>\n",
              "      <td>7.87</td>\n",
              "      <td>68.0</td>\n",
              "      <td>0.1</td>\n",
              "      <td>63.537231</td>\n",
              "      <td>2978599.0</td>\n",
              "      <td>18.2</td>\n",
              "      <td>18.2</td>\n",
              "      <td>0.454</td>\n",
              "      <td>9.5</td>\n",
              "    </tr>\n",
              "    <tr>\n",
              "      <th>5</th>\n",
              "      <td>Afghanistan</td>\n",
              "      <td>2010</td>\n",
              "      <td>Developing</td>\n",
              "      <td>58.8</td>\n",
              "      <td>279.0</td>\n",
              "      <td>74</td>\n",
              "      <td>0.01</td>\n",
              "      <td>79.679367</td>\n",
              "      <td>66.0</td>\n",
              "      <td>1989</td>\n",
              "      <td>...</td>\n",
              "      <td>66.0</td>\n",
              "      <td>9.20</td>\n",
              "      <td>66.0</td>\n",
              "      <td>0.1</td>\n",
              "      <td>553.328940</td>\n",
              "      <td>2883167.0</td>\n",
              "      <td>18.4</td>\n",
              "      <td>18.4</td>\n",
              "      <td>0.448</td>\n",
              "      <td>9.2</td>\n",
              "    </tr>\n",
              "    <tr>\n",
              "      <th>6</th>\n",
              "      <td>Afghanistan</td>\n",
              "      <td>2009</td>\n",
              "      <td>Developing</td>\n",
              "      <td>58.6</td>\n",
              "      <td>281.0</td>\n",
              "      <td>77</td>\n",
              "      <td>0.01</td>\n",
              "      <td>56.762217</td>\n",
              "      <td>63.0</td>\n",
              "      <td>2861</td>\n",
              "      <td>...</td>\n",
              "      <td>63.0</td>\n",
              "      <td>9.42</td>\n",
              "      <td>63.0</td>\n",
              "      <td>0.1</td>\n",
              "      <td>445.893298</td>\n",
              "      <td>284331.0</td>\n",
              "      <td>18.6</td>\n",
              "      <td>18.7</td>\n",
              "      <td>0.434</td>\n",
              "      <td>8.9</td>\n",
              "    </tr>\n",
              "    <tr>\n",
              "      <th>7</th>\n",
              "      <td>Afghanistan</td>\n",
              "      <td>2008</td>\n",
              "      <td>Developing</td>\n",
              "      <td>58.1</td>\n",
              "      <td>287.0</td>\n",
              "      <td>80</td>\n",
              "      <td>0.03</td>\n",
              "      <td>25.873925</td>\n",
              "      <td>64.0</td>\n",
              "      <td>1599</td>\n",
              "      <td>...</td>\n",
              "      <td>64.0</td>\n",
              "      <td>8.33</td>\n",
              "      <td>64.0</td>\n",
              "      <td>0.1</td>\n",
              "      <td>373.361116</td>\n",
              "      <td>2729431.0</td>\n",
              "      <td>18.8</td>\n",
              "      <td>18.9</td>\n",
              "      <td>0.433</td>\n",
              "      <td>8.7</td>\n",
              "    </tr>\n",
              "    <tr>\n",
              "      <th>8</th>\n",
              "      <td>Afghanistan</td>\n",
              "      <td>2007</td>\n",
              "      <td>Developing</td>\n",
              "      <td>57.5</td>\n",
              "      <td>295.0</td>\n",
              "      <td>82</td>\n",
              "      <td>0.02</td>\n",
              "      <td>10.910156</td>\n",
              "      <td>63.0</td>\n",
              "      <td>1141</td>\n",
              "      <td>...</td>\n",
              "      <td>63.0</td>\n",
              "      <td>6.73</td>\n",
              "      <td>63.0</td>\n",
              "      <td>0.1</td>\n",
              "      <td>369.835796</td>\n",
              "      <td>26616792.0</td>\n",
              "      <td>19.0</td>\n",
              "      <td>19.1</td>\n",
              "      <td>0.415</td>\n",
              "      <td>8.4</td>\n",
              "    </tr>\n",
              "    <tr>\n",
              "      <th>9</th>\n",
              "      <td>Afghanistan</td>\n",
              "      <td>2006</td>\n",
              "      <td>Developing</td>\n",
              "      <td>57.3</td>\n",
              "      <td>295.0</td>\n",
              "      <td>84</td>\n",
              "      <td>0.03</td>\n",
              "      <td>17.171518</td>\n",
              "      <td>64.0</td>\n",
              "      <td>1990</td>\n",
              "      <td>...</td>\n",
              "      <td>58.0</td>\n",
              "      <td>7.43</td>\n",
              "      <td>58.0</td>\n",
              "      <td>0.1</td>\n",
              "      <td>272.563770</td>\n",
              "      <td>2589345.0</td>\n",
              "      <td>19.2</td>\n",
              "      <td>19.3</td>\n",
              "      <td>0.405</td>\n",
              "      <td>8.1</td>\n",
              "    </tr>\n",
              "    <tr>\n",
              "      <th>10</th>\n",
              "      <td>Afghanistan</td>\n",
              "      <td>2005</td>\n",
              "      <td>Developing</td>\n",
              "      <td>57.3</td>\n",
              "      <td>291.0</td>\n",
              "      <td>85</td>\n",
              "      <td>0.02</td>\n",
              "      <td>1.388648</td>\n",
              "      <td>66.0</td>\n",
              "      <td>1296</td>\n",
              "      <td>...</td>\n",
              "      <td>58.0</td>\n",
              "      <td>8.70</td>\n",
              "      <td>58.0</td>\n",
              "      <td>0.1</td>\n",
              "      <td>25.294130</td>\n",
              "      <td>257798.0</td>\n",
              "      <td>19.3</td>\n",
              "      <td>19.5</td>\n",
              "      <td>0.396</td>\n",
              "      <td>7.9</td>\n",
              "    </tr>\n",
              "    <tr>\n",
              "      <th>11</th>\n",
              "      <td>Afghanistan</td>\n",
              "      <td>2004</td>\n",
              "      <td>Developing</td>\n",
              "      <td>57.0</td>\n",
              "      <td>293.0</td>\n",
              "      <td>87</td>\n",
              "      <td>0.02</td>\n",
              "      <td>15.296066</td>\n",
              "      <td>67.0</td>\n",
              "      <td>466</td>\n",
              "      <td>...</td>\n",
              "      <td>5.0</td>\n",
              "      <td>8.79</td>\n",
              "      <td>5.0</td>\n",
              "      <td>0.1</td>\n",
              "      <td>219.141353</td>\n",
              "      <td>24118979.0</td>\n",
              "      <td>19.5</td>\n",
              "      <td>19.7</td>\n",
              "      <td>0.381</td>\n",
              "      <td>6.8</td>\n",
              "    </tr>\n",
              "    <tr>\n",
              "      <th>12</th>\n",
              "      <td>Afghanistan</td>\n",
              "      <td>2003</td>\n",
              "      <td>Developing</td>\n",
              "      <td>56.7</td>\n",
              "      <td>295.0</td>\n",
              "      <td>87</td>\n",
              "      <td>0.01</td>\n",
              "      <td>11.089053</td>\n",
              "      <td>65.0</td>\n",
              "      <td>798</td>\n",
              "      <td>...</td>\n",
              "      <td>41.0</td>\n",
              "      <td>8.82</td>\n",
              "      <td>41.0</td>\n",
              "      <td>0.1</td>\n",
              "      <td>198.728544</td>\n",
              "      <td>2364851.0</td>\n",
              "      <td>19.7</td>\n",
              "      <td>19.9</td>\n",
              "      <td>0.373</td>\n",
              "      <td>6.5</td>\n",
              "    </tr>\n",
              "    <tr>\n",
              "      <th>13</th>\n",
              "      <td>Afghanistan</td>\n",
              "      <td>2002</td>\n",
              "      <td>Developing</td>\n",
              "      <td>56.2</td>\n",
              "      <td>3.0</td>\n",
              "      <td>88</td>\n",
              "      <td>0.01</td>\n",
              "      <td>16.887351</td>\n",
              "      <td>64.0</td>\n",
              "      <td>2486</td>\n",
              "      <td>...</td>\n",
              "      <td>36.0</td>\n",
              "      <td>7.76</td>\n",
              "      <td>36.0</td>\n",
              "      <td>0.1</td>\n",
              "      <td>187.845950</td>\n",
              "      <td>21979923.0</td>\n",
              "      <td>19.9</td>\n",
              "      <td>2.2</td>\n",
              "      <td>0.341</td>\n",
              "      <td>6.2</td>\n",
              "    </tr>\n",
              "    <tr>\n",
              "      <th>14</th>\n",
              "      <td>Afghanistan</td>\n",
              "      <td>2001</td>\n",
              "      <td>Developing</td>\n",
              "      <td>55.3</td>\n",
              "      <td>316.0</td>\n",
              "      <td>88</td>\n",
              "      <td>0.01</td>\n",
              "      <td>10.574728</td>\n",
              "      <td>63.0</td>\n",
              "      <td>8762</td>\n",
              "      <td>...</td>\n",
              "      <td>35.0</td>\n",
              "      <td>7.80</td>\n",
              "      <td>33.0</td>\n",
              "      <td>0.1</td>\n",
              "      <td>117.496980</td>\n",
              "      <td>2966463.0</td>\n",
              "      <td>2.1</td>\n",
              "      <td>2.4</td>\n",
              "      <td>0.340</td>\n",
              "      <td>5.9</td>\n",
              "    </tr>\n",
              "    <tr>\n",
              "      <th>15</th>\n",
              "      <td>Afghanistan</td>\n",
              "      <td>2000</td>\n",
              "      <td>Developing</td>\n",
              "      <td>54.8</td>\n",
              "      <td>321.0</td>\n",
              "      <td>88</td>\n",
              "      <td>0.01</td>\n",
              "      <td>10.424960</td>\n",
              "      <td>62.0</td>\n",
              "      <td>6532</td>\n",
              "      <td>...</td>\n",
              "      <td>24.0</td>\n",
              "      <td>8.20</td>\n",
              "      <td>24.0</td>\n",
              "      <td>0.1</td>\n",
              "      <td>114.560000</td>\n",
              "      <td>293756.0</td>\n",
              "      <td>2.3</td>\n",
              "      <td>2.5</td>\n",
              "      <td>0.338</td>\n",
              "      <td>5.5</td>\n",
              "    </tr>\n",
              "    <tr>\n",
              "      <th>16</th>\n",
              "      <td>Albania</td>\n",
              "      <td>2015</td>\n",
              "      <td>Developing</td>\n",
              "      <td>77.8</td>\n",
              "      <td>74.0</td>\n",
              "      <td>0</td>\n",
              "      <td>4.60</td>\n",
              "      <td>364.975229</td>\n",
              "      <td>99.0</td>\n",
              "      <td>0</td>\n",
              "      <td>...</td>\n",
              "      <td>99.0</td>\n",
              "      <td>6.00</td>\n",
              "      <td>99.0</td>\n",
              "      <td>0.1</td>\n",
              "      <td>3954.227830</td>\n",
              "      <td>28873.0</td>\n",
              "      <td>1.2</td>\n",
              "      <td>1.3</td>\n",
              "      <td>0.762</td>\n",
              "      <td>14.2</td>\n",
              "    </tr>\n",
              "    <tr>\n",
              "      <th>17</th>\n",
              "      <td>Albania</td>\n",
              "      <td>2014</td>\n",
              "      <td>Developing</td>\n",
              "      <td>77.5</td>\n",
              "      <td>8.0</td>\n",
              "      <td>0</td>\n",
              "      <td>4.51</td>\n",
              "      <td>428.749067</td>\n",
              "      <td>98.0</td>\n",
              "      <td>0</td>\n",
              "      <td>...</td>\n",
              "      <td>98.0</td>\n",
              "      <td>5.88</td>\n",
              "      <td>98.0</td>\n",
              "      <td>0.1</td>\n",
              "      <td>4575.763787</td>\n",
              "      <td>288914.0</td>\n",
              "      <td>1.2</td>\n",
              "      <td>1.3</td>\n",
              "      <td>0.761</td>\n",
              "      <td>14.2</td>\n",
              "    </tr>\n",
              "    <tr>\n",
              "      <th>18</th>\n",
              "      <td>Albania</td>\n",
              "      <td>2013</td>\n",
              "      <td>Developing</td>\n",
              "      <td>77.2</td>\n",
              "      <td>84.0</td>\n",
              "      <td>0</td>\n",
              "      <td>4.76</td>\n",
              "      <td>430.876979</td>\n",
              "      <td>99.0</td>\n",
              "      <td>0</td>\n",
              "      <td>...</td>\n",
              "      <td>99.0</td>\n",
              "      <td>5.66</td>\n",
              "      <td>99.0</td>\n",
              "      <td>0.1</td>\n",
              "      <td>4414.723140</td>\n",
              "      <td>289592.0</td>\n",
              "      <td>1.3</td>\n",
              "      <td>1.4</td>\n",
              "      <td>0.759</td>\n",
              "      <td>14.2</td>\n",
              "    </tr>\n",
              "    <tr>\n",
              "      <th>19</th>\n",
              "      <td>Albania</td>\n",
              "      <td>2012</td>\n",
              "      <td>Developing</td>\n",
              "      <td>76.9</td>\n",
              "      <td>86.0</td>\n",
              "      <td>0</td>\n",
              "      <td>5.14</td>\n",
              "      <td>412.443356</td>\n",
              "      <td>99.0</td>\n",
              "      <td>9</td>\n",
              "      <td>...</td>\n",
              "      <td>99.0</td>\n",
              "      <td>5.59</td>\n",
              "      <td>99.0</td>\n",
              "      <td>0.1</td>\n",
              "      <td>4247.614380</td>\n",
              "      <td>2941.0</td>\n",
              "      <td>1.3</td>\n",
              "      <td>1.4</td>\n",
              "      <td>0.752</td>\n",
              "      <td>14.2</td>\n",
              "    </tr>\n",
              "  </tbody>\n",
              "</table>\n",
              "<p>20 rows × 22 columns</p>\n",
              "</div>\n",
              "      <button class=\"colab-df-convert\" onclick=\"convertToInteractive('df-125079ba-d02d-4d9e-9276-e096d7cabe0b')\"\n",
              "              title=\"Convert this dataframe to an interactive table.\"\n",
              "              style=\"display:none;\">\n",
              "        \n",
              "  <svg xmlns=\"http://www.w3.org/2000/svg\" height=\"24px\"viewBox=\"0 0 24 24\"\n",
              "       width=\"24px\">\n",
              "    <path d=\"M0 0h24v24H0V0z\" fill=\"none\"/>\n",
              "    <path d=\"M18.56 5.44l.94 2.06.94-2.06 2.06-.94-2.06-.94-.94-2.06-.94 2.06-2.06.94zm-11 1L8.5 8.5l.94-2.06 2.06-.94-2.06-.94L8.5 2.5l-.94 2.06-2.06.94zm10 10l.94 2.06.94-2.06 2.06-.94-2.06-.94-.94-2.06-.94 2.06-2.06.94z\"/><path d=\"M17.41 7.96l-1.37-1.37c-.4-.4-.92-.59-1.43-.59-.52 0-1.04.2-1.43.59L10.3 9.45l-7.72 7.72c-.78.78-.78 2.05 0 2.83L4 21.41c.39.39.9.59 1.41.59.51 0 1.02-.2 1.41-.59l7.78-7.78 2.81-2.81c.8-.78.8-2.07 0-2.86zM5.41 20L4 18.59l7.72-7.72 1.47 1.35L5.41 20z\"/>\n",
              "  </svg>\n",
              "      </button>\n",
              "      \n",
              "  <style>\n",
              "    .colab-df-container {\n",
              "      display:flex;\n",
              "      flex-wrap:wrap;\n",
              "      gap: 12px;\n",
              "    }\n",
              "\n",
              "    .colab-df-convert {\n",
              "      background-color: #E8F0FE;\n",
              "      border: none;\n",
              "      border-radius: 50%;\n",
              "      cursor: pointer;\n",
              "      display: none;\n",
              "      fill: #1967D2;\n",
              "      height: 32px;\n",
              "      padding: 0 0 0 0;\n",
              "      width: 32px;\n",
              "    }\n",
              "\n",
              "    .colab-df-convert:hover {\n",
              "      background-color: #E2EBFA;\n",
              "      box-shadow: 0px 1px 2px rgba(60, 64, 67, 0.3), 0px 1px 3px 1px rgba(60, 64, 67, 0.15);\n",
              "      fill: #174EA6;\n",
              "    }\n",
              "\n",
              "    [theme=dark] .colab-df-convert {\n",
              "      background-color: #3B4455;\n",
              "      fill: #D2E3FC;\n",
              "    }\n",
              "\n",
              "    [theme=dark] .colab-df-convert:hover {\n",
              "      background-color: #434B5C;\n",
              "      box-shadow: 0px 1px 3px 1px rgba(0, 0, 0, 0.15);\n",
              "      filter: drop-shadow(0px 1px 2px rgba(0, 0, 0, 0.3));\n",
              "      fill: #FFFFFF;\n",
              "    }\n",
              "  </style>\n",
              "\n",
              "      <script>\n",
              "        const buttonEl =\n",
              "          document.querySelector('#df-125079ba-d02d-4d9e-9276-e096d7cabe0b button.colab-df-convert');\n",
              "        buttonEl.style.display =\n",
              "          google.colab.kernel.accessAllowed ? 'block' : 'none';\n",
              "\n",
              "        async function convertToInteractive(key) {\n",
              "          const element = document.querySelector('#df-125079ba-d02d-4d9e-9276-e096d7cabe0b');\n",
              "          const dataTable =\n",
              "            await google.colab.kernel.invokeFunction('convertToInteractive',\n",
              "                                                     [key], {});\n",
              "          if (!dataTable) return;\n",
              "\n",
              "          const docLinkHtml = 'Like what you see? Visit the ' +\n",
              "            '<a target=\"_blank\" href=https://colab.research.google.com/notebooks/data_table.ipynb>data table notebook</a>'\n",
              "            + ' to learn more about interactive tables.';\n",
              "          element.innerHTML = '';\n",
              "          dataTable['output_type'] = 'display_data';\n",
              "          await google.colab.output.renderOutput(dataTable, element);\n",
              "          const docLink = document.createElement('div');\n",
              "          docLink.innerHTML = docLinkHtml;\n",
              "          element.appendChild(docLink);\n",
              "        }\n",
              "      </script>\n",
              "    </div>\n",
              "  </div>\n",
              "  "
            ]
          },
          "metadata": {},
          "execution_count": 105
        }
      ],
      "source": [
        "df.head(20)"
      ]
    },
    {
      "cell_type": "markdown",
      "id": "1a01a5e0",
      "metadata": {
        "id": "1a01a5e0"
      },
      "source": [
        ">1.1.2 How many observations (rows) and columns are in the dataset?"
      ]
    },
    {
      "cell_type": "code",
      "execution_count": null,
      "id": "8e8356c1",
      "metadata": {
        "id": "8e8356c1",
        "colab": {
          "base_uri": "https://localhost:8080/"
        },
        "outputId": "01bf8746-a26d-48bf-f8e9-9b07b907e04f"
      },
      "outputs": [
        {
          "output_type": "execute_result",
          "data": {
            "text/plain": [
              "2938"
            ]
          },
          "metadata": {},
          "execution_count": 5
        }
      ],
      "source": [
        "# this is the number of observations (rows), the data numerosity\n",
        "df.shape[0]"
      ]
    },
    {
      "cell_type": "code",
      "source": [
        "# this is the number of columns or attributes, the data dimensionality\n",
        "df.shape[1]"
      ],
      "metadata": {
        "colab": {
          "base_uri": "https://localhost:8080/"
        },
        "id": "uICwDuWQA3PA",
        "outputId": "e1c5390a-5dc8-441a-ca5f-c43651f89b53"
      },
      "id": "uICwDuWQA3PA",
      "execution_count": null,
      "outputs": [
        {
          "output_type": "execute_result",
          "data": {
            "text/plain": [
              "22"
            ]
          },
          "metadata": {},
          "execution_count": 6
        }
      ]
    },
    {
      "cell_type": "markdown",
      "id": "9aa68cca",
      "metadata": {
        "id": "9aa68cca"
      },
      "source": [
        "> 1.1.3 For which variable(s), if any, are there missing/null values?"
      ]
    },
    {
      "cell_type": "code",
      "execution_count": null,
      "id": "45868696",
      "metadata": {
        "id": "45868696",
        "colab": {
          "base_uri": "https://localhost:8080/"
        },
        "outputId": "002265e6-0d0d-4a20-8f5f-cc09c61a7a03"
      },
      "outputs": [
        {
          "output_type": "execute_result",
          "data": {
            "text/plain": [
              "Country                     0\n",
              "Year                        0\n",
              "Status                      0\n",
              "Life expectancy            10\n",
              "Infant deaths               0\n",
              "Percentage expenditure      0\n",
              "Hepatitis b               553\n",
              "Measles                     0\n",
              "Bmi                        34\n",
              "Polio                      19\n",
              "Hiv/aids                    0\n",
              "Gdp                       448\n",
              "Population                652\n",
              "Schooling                 163\n",
              "dtype: int64"
            ]
          },
          "metadata": {},
          "execution_count": 54
        }
      ],
      "source": [
        "# Missing or Null values found\n",
        "df.isnull().sum()"
      ]
    },
    {
      "cell_type": "markdown",
      "id": "ffd7b5ff",
      "metadata": {
        "id": "ffd7b5ff"
      },
      "source": [
        ">1.1.4 Apply two small modifications to the names of the columns, that will help you avoid errors. \n",
        "* Remove spaces from beginning and end of the names of the features, if they have some\n",
        "* Put all the feature names start with an uppercase letter or all with a lowercase letter"
      ]
    },
    {
      "cell_type": "code",
      "execution_count": null,
      "id": "b7476d0a",
      "metadata": {
        "id": "b7476d0a",
        "colab": {
          "base_uri": "https://localhost:8080/"
        },
        "outputId": "e92cb9bc-e60e-4a0e-dcee-77134d7ad26a"
      },
      "outputs": [
        {
          "output_type": "stream",
          "name": "stdout",
          "text": [
            "Index(['Country', 'Year', 'Status', 'Life expectancy ', 'Adult Mortality',\n",
            "       'infant deaths', 'Alcohol', 'percentage expenditure', 'Hepatitis B',\n",
            "       'Measles ', ' BMI ', 'under-five deaths ', 'Polio', 'Total expenditure',\n",
            "       'Diphtheria ', ' HIV/AIDS', 'GDP', 'Population',\n",
            "       ' thinness  1-19 years', ' thinness 5-9 years',\n",
            "       'Income composition of resources', 'Schooling'],\n",
            "      dtype='object')\n"
          ]
        }
      ],
      "source": [
        "# Check if there are spaces in the columns \n",
        "print(df.columns)"
      ]
    },
    {
      "cell_type": "code",
      "source": [
        "#Check in which Names there are whitespaces\n",
        "[x for x in df.columns if x.endswith(' ') or x.startswith(' ')]"
      ],
      "metadata": {
        "colab": {
          "base_uri": "https://localhost:8080/"
        },
        "id": "IeVlRYj-Wjqf",
        "outputId": "e0ca194a-f75d-401d-d2e0-bdba157e304b"
      },
      "id": "IeVlRYj-Wjqf",
      "execution_count": null,
      "outputs": [
        {
          "output_type": "execute_result",
          "data": {
            "text/plain": [
              "['Life expectancy ',\n",
              " 'Measles ',\n",
              " ' BMI ',\n",
              " 'under-five deaths ',\n",
              " 'Diphtheria ',\n",
              " ' HIV/AIDS',\n",
              " ' thinness  1-19 years',\n",
              " ' thinness 5-9 years']"
            ]
          },
          "metadata": {},
          "execution_count": 10
        }
      ]
    },
    {
      "cell_type": "code",
      "source": [
        "#Remove whitespacing \n",
        "df.columns = df.columns.str.strip() # Leading and trailing"
      ],
      "metadata": {
        "id": "hXxZDiw7W3ui"
      },
      "id": "hXxZDiw7W3ui",
      "execution_count": null,
      "outputs": []
    },
    {
      "cell_type": "code",
      "source": [
        "#Ckeck difference \n",
        "print(df.columns)"
      ],
      "metadata": {
        "colab": {
          "base_uri": "https://localhost:8080/"
        },
        "id": "vJL-CgcHW8v3",
        "outputId": "bff9854a-9ba3-43a4-ac9c-2a265e4abfb4"
      },
      "id": "vJL-CgcHW8v3",
      "execution_count": null,
      "outputs": [
        {
          "output_type": "stream",
          "name": "stdout",
          "text": [
            "Index(['Country', 'Year', 'Status', 'Life expectancy', 'Adult Mortality',\n",
            "       'infant deaths', 'Alcohol', 'percentage expenditure', 'Hepatitis B',\n",
            "       'Measles', 'BMI', 'under-five deaths', 'Polio', 'Total expenditure',\n",
            "       'Diphtheria', 'HIV/AIDS', 'GDP', 'Population', 'thinness  1-19 years',\n",
            "       'thinness 5-9 years', 'Income composition of resources', 'Schooling'],\n",
            "      dtype='object')\n"
          ]
        }
      ]
    },
    {
      "cell_type": "code",
      "source": [
        "#In \"thinness 1-19 Years\" are two whitespaces --> Clear  \n",
        "df = df.rename(columns={'thinness  1-19 years': 'thinness 1-19 years'})\n",
        "df.tail(3)"
      ],
      "metadata": {
        "id": "5jPgrxx2Qi_d",
        "colab": {
          "base_uri": "https://localhost:8080/",
          "height": 143
        },
        "outputId": "216ac702-7e2a-47c9-c0d2-1e82876153c3"
      },
      "id": "5jPgrxx2Qi_d",
      "execution_count": null,
      "outputs": [
        {
          "output_type": "execute_result",
          "data": {
            "text/plain": [
              "       Country  Year      Status  Life expectancy  Infant deaths  \\\n",
              "2935  Zimbabwe  2002  Developing             44.8             25   \n",
              "2936  Zimbabwe  2001  Developing             45.3             25   \n",
              "2937  Zimbabwe  2000  Developing             46.0             24   \n",
              "\n",
              "      Percentage expenditure  Hepatitis b  Measles   Bmi  Polio  Hiv/aids  \\\n",
              "2935                     0.0         73.0      304  26.3   73.0      39.8   \n",
              "2936                     0.0         76.0      529  25.9   76.0      42.1   \n",
              "2937                     0.0         79.0     1483  25.5   78.0      43.5   \n",
              "\n",
              "             Gdp  Population  Schooling  \n",
              "2935   57.348340    125525.0       10.0  \n",
              "2936  548.587312  12366165.0        9.8  \n",
              "2937  547.358878  12222251.0        9.8  "
            ],
            "text/html": [
              "\n",
              "  <div id=\"df-fe3fc137-2693-4cef-b633-50eff9cb4ecc\">\n",
              "    <div class=\"colab-df-container\">\n",
              "      <div>\n",
              "<style scoped>\n",
              "    .dataframe tbody tr th:only-of-type {\n",
              "        vertical-align: middle;\n",
              "    }\n",
              "\n",
              "    .dataframe tbody tr th {\n",
              "        vertical-align: top;\n",
              "    }\n",
              "\n",
              "    .dataframe thead th {\n",
              "        text-align: right;\n",
              "    }\n",
              "</style>\n",
              "<table border=\"1\" class=\"dataframe\">\n",
              "  <thead>\n",
              "    <tr style=\"text-align: right;\">\n",
              "      <th></th>\n",
              "      <th>Country</th>\n",
              "      <th>Year</th>\n",
              "      <th>Status</th>\n",
              "      <th>Life expectancy</th>\n",
              "      <th>Infant deaths</th>\n",
              "      <th>Percentage expenditure</th>\n",
              "      <th>Hepatitis b</th>\n",
              "      <th>Measles</th>\n",
              "      <th>Bmi</th>\n",
              "      <th>Polio</th>\n",
              "      <th>Hiv/aids</th>\n",
              "      <th>Gdp</th>\n",
              "      <th>Population</th>\n",
              "      <th>Schooling</th>\n",
              "    </tr>\n",
              "  </thead>\n",
              "  <tbody>\n",
              "    <tr>\n",
              "      <th>2935</th>\n",
              "      <td>Zimbabwe</td>\n",
              "      <td>2002</td>\n",
              "      <td>Developing</td>\n",
              "      <td>44.8</td>\n",
              "      <td>25</td>\n",
              "      <td>0.0</td>\n",
              "      <td>73.0</td>\n",
              "      <td>304</td>\n",
              "      <td>26.3</td>\n",
              "      <td>73.0</td>\n",
              "      <td>39.8</td>\n",
              "      <td>57.348340</td>\n",
              "      <td>125525.0</td>\n",
              "      <td>10.0</td>\n",
              "    </tr>\n",
              "    <tr>\n",
              "      <th>2936</th>\n",
              "      <td>Zimbabwe</td>\n",
              "      <td>2001</td>\n",
              "      <td>Developing</td>\n",
              "      <td>45.3</td>\n",
              "      <td>25</td>\n",
              "      <td>0.0</td>\n",
              "      <td>76.0</td>\n",
              "      <td>529</td>\n",
              "      <td>25.9</td>\n",
              "      <td>76.0</td>\n",
              "      <td>42.1</td>\n",
              "      <td>548.587312</td>\n",
              "      <td>12366165.0</td>\n",
              "      <td>9.8</td>\n",
              "    </tr>\n",
              "    <tr>\n",
              "      <th>2937</th>\n",
              "      <td>Zimbabwe</td>\n",
              "      <td>2000</td>\n",
              "      <td>Developing</td>\n",
              "      <td>46.0</td>\n",
              "      <td>24</td>\n",
              "      <td>0.0</td>\n",
              "      <td>79.0</td>\n",
              "      <td>1483</td>\n",
              "      <td>25.5</td>\n",
              "      <td>78.0</td>\n",
              "      <td>43.5</td>\n",
              "      <td>547.358878</td>\n",
              "      <td>12222251.0</td>\n",
              "      <td>9.8</td>\n",
              "    </tr>\n",
              "  </tbody>\n",
              "</table>\n",
              "</div>\n",
              "      <button class=\"colab-df-convert\" onclick=\"convertToInteractive('df-fe3fc137-2693-4cef-b633-50eff9cb4ecc')\"\n",
              "              title=\"Convert this dataframe to an interactive table.\"\n",
              "              style=\"display:none;\">\n",
              "        \n",
              "  <svg xmlns=\"http://www.w3.org/2000/svg\" height=\"24px\"viewBox=\"0 0 24 24\"\n",
              "       width=\"24px\">\n",
              "    <path d=\"M0 0h24v24H0V0z\" fill=\"none\"/>\n",
              "    <path d=\"M18.56 5.44l.94 2.06.94-2.06 2.06-.94-2.06-.94-.94-2.06-.94 2.06-2.06.94zm-11 1L8.5 8.5l.94-2.06 2.06-.94-2.06-.94L8.5 2.5l-.94 2.06-2.06.94zm10 10l.94 2.06.94-2.06 2.06-.94-2.06-.94-.94-2.06-.94 2.06-2.06.94z\"/><path d=\"M17.41 7.96l-1.37-1.37c-.4-.4-.92-.59-1.43-.59-.52 0-1.04.2-1.43.59L10.3 9.45l-7.72 7.72c-.78.78-.78 2.05 0 2.83L4 21.41c.39.39.9.59 1.41.59.51 0 1.02-.2 1.41-.59l7.78-7.78 2.81-2.81c.8-.78.8-2.07 0-2.86zM5.41 20L4 18.59l7.72-7.72 1.47 1.35L5.41 20z\"/>\n",
              "  </svg>\n",
              "      </button>\n",
              "      \n",
              "  <style>\n",
              "    .colab-df-container {\n",
              "      display:flex;\n",
              "      flex-wrap:wrap;\n",
              "      gap: 12px;\n",
              "    }\n",
              "\n",
              "    .colab-df-convert {\n",
              "      background-color: #E8F0FE;\n",
              "      border: none;\n",
              "      border-radius: 50%;\n",
              "      cursor: pointer;\n",
              "      display: none;\n",
              "      fill: #1967D2;\n",
              "      height: 32px;\n",
              "      padding: 0 0 0 0;\n",
              "      width: 32px;\n",
              "    }\n",
              "\n",
              "    .colab-df-convert:hover {\n",
              "      background-color: #E2EBFA;\n",
              "      box-shadow: 0px 1px 2px rgba(60, 64, 67, 0.3), 0px 1px 3px 1px rgba(60, 64, 67, 0.15);\n",
              "      fill: #174EA6;\n",
              "    }\n",
              "\n",
              "    [theme=dark] .colab-df-convert {\n",
              "      background-color: #3B4455;\n",
              "      fill: #D2E3FC;\n",
              "    }\n",
              "\n",
              "    [theme=dark] .colab-df-convert:hover {\n",
              "      background-color: #434B5C;\n",
              "      box-shadow: 0px 1px 3px 1px rgba(0, 0, 0, 0.15);\n",
              "      filter: drop-shadow(0px 1px 2px rgba(0, 0, 0, 0.3));\n",
              "      fill: #FFFFFF;\n",
              "    }\n",
              "  </style>\n",
              "\n",
              "      <script>\n",
              "        const buttonEl =\n",
              "          document.querySelector('#df-fe3fc137-2693-4cef-b633-50eff9cb4ecc button.colab-df-convert');\n",
              "        buttonEl.style.display =\n",
              "          google.colab.kernel.accessAllowed ? 'block' : 'none';\n",
              "\n",
              "        async function convertToInteractive(key) {\n",
              "          const element = document.querySelector('#df-fe3fc137-2693-4cef-b633-50eff9cb4ecc');\n",
              "          const dataTable =\n",
              "            await google.colab.kernel.invokeFunction('convertToInteractive',\n",
              "                                                     [key], {});\n",
              "          if (!dataTable) return;\n",
              "\n",
              "          const docLinkHtml = 'Like what you see? Visit the ' +\n",
              "            '<a target=\"_blank\" href=https://colab.research.google.com/notebooks/data_table.ipynb>data table notebook</a>'\n",
              "            + ' to learn more about interactive tables.';\n",
              "          element.innerHTML = '';\n",
              "          dataTable['output_type'] = 'display_data';\n",
              "          await google.colab.output.renderOutput(dataTable, element);\n",
              "          const docLink = document.createElement('div');\n",
              "          docLink.innerHTML = docLinkHtml;\n",
              "          element.appendChild(docLink);\n",
              "        }\n",
              "      </script>\n",
              "    </div>\n",
              "  </div>\n",
              "  "
            ]
          },
          "metadata": {},
          "execution_count": 43
        }
      ]
    },
    {
      "cell_type": "code",
      "source": [
        "print(df.columns)"
      ],
      "metadata": {
        "colab": {
          "base_uri": "https://localhost:8080/"
        },
        "id": "XazvM5qCRxgs",
        "outputId": "d8810c38-2e80-4743-fe0d-aef94a0c7df9"
      },
      "id": "XazvM5qCRxgs",
      "execution_count": null,
      "outputs": [
        {
          "output_type": "stream",
          "name": "stdout",
          "text": [
            "Index(['Country', 'Year', 'Status', 'Life expectancy', 'Infant deaths',\n",
            "       'Percentage expenditure', 'Hepatitis b', 'Measles', 'Bmi', 'Polio',\n",
            "       'Hiv/aids', 'Gdp', 'Population', 'Schooling'],\n",
            "      dtype='object')\n"
          ]
        }
      ]
    },
    {
      "cell_type": "markdown",
      "source": [
        "Feature names start with an uppercase letter:"
      ],
      "metadata": {
        "id": "IbQG-slhJUL_"
      },
      "id": "IbQG-slhJUL_"
    },
    {
      "cell_type": "code",
      "source": [
        "df.columns = df.columns.str.capitalize()\n",
        "print(df.columns)"
      ],
      "metadata": {
        "id": "9meXkFFVJYcO",
        "colab": {
          "base_uri": "https://localhost:8080/"
        },
        "outputId": "0b41d745-4a17-4585-a04b-7a4156e4e04b"
      },
      "id": "9meXkFFVJYcO",
      "execution_count": null,
      "outputs": [
        {
          "output_type": "stream",
          "name": "stdout",
          "text": [
            "Index(['Country', 'Year', 'Status', 'Life expectancy', 'Adult mortality',\n",
            "       'Infant deaths', 'Alcohol', 'Percentage expenditure', 'Hepatitis b',\n",
            "       'Measles', 'Bmi', 'Under-five deaths', 'Polio', 'Total expenditure',\n",
            "       'Diphtheria', 'Hiv/aids', 'Gdp', 'Population', 'Thinness 1-19 years',\n",
            "       'Thinness 5-9 years', 'Income composition of resources', 'Schooling'],\n",
            "      dtype='object')\n"
          ]
        }
      ]
    },
    {
      "cell_type": "markdown",
      "id": "9c9953be",
      "metadata": {
        "id": "9c9953be"
      },
      "source": [
        ">1.1.5 Drop the following columns (we will not need them):\n",
        "* Adult Mortality\n",
        "* Alcohol\n",
        "* Under-five deaths \n",
        "* Total expenditure\n",
        "* Diphtheria\n",
        "* Thinness  1-19 years\n",
        "* Thinness 5-9 years\n",
        "* Income composition of resources"
      ]
    },
    {
      "cell_type": "code",
      "execution_count": null,
      "id": "93e2611a",
      "metadata": {
        "id": "93e2611a"
      },
      "outputs": [],
      "source": [
        "# Drop columns \n",
        "df = df.drop(columns=['Thinness 1-19 years','Adult mortality', 'Alcohol', 'Under-five deaths', 'Total expenditure', 'Diphtheria', 'Thinness 5-9 years',  'Income composition of resources'])\n"
      ]
    },
    {
      "cell_type": "markdown",
      "id": "f330e9e4",
      "metadata": {
        "id": "f330e9e4"
      },
      "source": [
        ">1.1.6 Which state had the highest **life expectancy** in a single year? ONLY for this question and the following one (1.1.7), you will need to drop the rows that have NaN as life expectancy."
      ]
    },
    {
      "cell_type": "code",
      "execution_count": null,
      "id": "118edea6",
      "metadata": {
        "id": "118edea6"
      },
      "outputs": [],
      "source": [
        "# The highest life expectancy in a state\n",
        "# Drop the rows with NaN expectancy in Life expectancy\n",
        "df_droplife=df.dropna(subset=['Life expectancy'])"
      ]
    },
    {
      "cell_type": "code",
      "source": [
        "maxClm = df_droplife['Life expectancy'].max()\n",
        "maxIdx = df_droplife['Life expectancy'].idxmax()\n",
        "print(maxClm)\n",
        "#print(maxIdx) -> For visualizing the table\n",
        "df_droplife.loc[maxIdx, 'Country']"
      ],
      "metadata": {
        "colab": {
          "base_uri": "https://localhost:8080/",
          "height": 52
        },
        "id": "MHYRh37S5n-7",
        "outputId": "7cd011ee-7d8a-41ef-b674-4a54e1caef24"
      },
      "id": "MHYRh37S5n-7",
      "execution_count": null,
      "outputs": [
        {
          "output_type": "stream",
          "name": "stdout",
          "text": [
            "89.0\n"
          ]
        },
        {
          "output_type": "execute_result",
          "data": {
            "text/plain": [
              "'Belgium'"
            ],
            "application/vnd.google.colaboratory.intrinsic+json": {
              "type": "string"
            }
          },
          "metadata": {},
          "execution_count": 57
        }
      ]
    },
    {
      "cell_type": "code",
      "source": [
        "#Visualized in a table\n",
        "df_droplife.loc[241,['Country', 'Life expectancy']]"
      ],
      "metadata": {
        "colab": {
          "base_uri": "https://localhost:8080/"
        },
        "id": "O_neJCwA_BdR",
        "outputId": "5fdda8bb-44f6-41c6-e239-c25adbf0566a"
      },
      "id": "O_neJCwA_BdR",
      "execution_count": null,
      "outputs": [
        {
          "output_type": "execute_result",
          "data": {
            "text/plain": [
              "Country            Belgium\n",
              "Life expectancy       89.0\n",
              "Name: 241, dtype: object"
            ]
          },
          "metadata": {},
          "execution_count": 35
        }
      ]
    },
    {
      "cell_type": "code",
      "source": [
        "#Check if there are other Countries with the same Life expectancy\n",
        "#There are 11 Countries which have the same value \n",
        "df_droplife.loc[:,['Country', 'Life expectancy']][df_droplife['Life expectancy'] == 89.0]"
      ],
      "metadata": {
        "colab": {
          "base_uri": "https://localhost:8080/",
          "height": 394
        },
        "id": "84-iC6ukD2mB",
        "outputId": "6b1a663d-0c34-42e2-f219-0c35dbc4be68"
      },
      "id": "84-iC6ukD2mB",
      "execution_count": null,
      "outputs": [
        {
          "output_type": "execute_result",
          "data": {
            "text/plain": [
              "          Country  Life expectancy\n",
              "241       Belgium             89.0\n",
              "915       Finland             89.0\n",
              "937        France             89.0\n",
              "938        France             89.0\n",
              "995       Germany             89.0\n",
              "1293        Italy             89.0\n",
              "1850  New Zealand             89.0\n",
              "1916       Norway             89.0\n",
              "2056     Portugal             89.0\n",
              "2433        Spain             89.0\n",
              "2513       Sweden             89.0"
            ],
            "text/html": [
              "\n",
              "  <div id=\"df-c77588aa-d2ad-4251-8490-7bb61f4cadc4\">\n",
              "    <div class=\"colab-df-container\">\n",
              "      <div>\n",
              "<style scoped>\n",
              "    .dataframe tbody tr th:only-of-type {\n",
              "        vertical-align: middle;\n",
              "    }\n",
              "\n",
              "    .dataframe tbody tr th {\n",
              "        vertical-align: top;\n",
              "    }\n",
              "\n",
              "    .dataframe thead th {\n",
              "        text-align: right;\n",
              "    }\n",
              "</style>\n",
              "<table border=\"1\" class=\"dataframe\">\n",
              "  <thead>\n",
              "    <tr style=\"text-align: right;\">\n",
              "      <th></th>\n",
              "      <th>Country</th>\n",
              "      <th>Life expectancy</th>\n",
              "    </tr>\n",
              "  </thead>\n",
              "  <tbody>\n",
              "    <tr>\n",
              "      <th>241</th>\n",
              "      <td>Belgium</td>\n",
              "      <td>89.0</td>\n",
              "    </tr>\n",
              "    <tr>\n",
              "      <th>915</th>\n",
              "      <td>Finland</td>\n",
              "      <td>89.0</td>\n",
              "    </tr>\n",
              "    <tr>\n",
              "      <th>937</th>\n",
              "      <td>France</td>\n",
              "      <td>89.0</td>\n",
              "    </tr>\n",
              "    <tr>\n",
              "      <th>938</th>\n",
              "      <td>France</td>\n",
              "      <td>89.0</td>\n",
              "    </tr>\n",
              "    <tr>\n",
              "      <th>995</th>\n",
              "      <td>Germany</td>\n",
              "      <td>89.0</td>\n",
              "    </tr>\n",
              "    <tr>\n",
              "      <th>1293</th>\n",
              "      <td>Italy</td>\n",
              "      <td>89.0</td>\n",
              "    </tr>\n",
              "    <tr>\n",
              "      <th>1850</th>\n",
              "      <td>New Zealand</td>\n",
              "      <td>89.0</td>\n",
              "    </tr>\n",
              "    <tr>\n",
              "      <th>1916</th>\n",
              "      <td>Norway</td>\n",
              "      <td>89.0</td>\n",
              "    </tr>\n",
              "    <tr>\n",
              "      <th>2056</th>\n",
              "      <td>Portugal</td>\n",
              "      <td>89.0</td>\n",
              "    </tr>\n",
              "    <tr>\n",
              "      <th>2433</th>\n",
              "      <td>Spain</td>\n",
              "      <td>89.0</td>\n",
              "    </tr>\n",
              "    <tr>\n",
              "      <th>2513</th>\n",
              "      <td>Sweden</td>\n",
              "      <td>89.0</td>\n",
              "    </tr>\n",
              "  </tbody>\n",
              "</table>\n",
              "</div>\n",
              "      <button class=\"colab-df-convert\" onclick=\"convertToInteractive('df-c77588aa-d2ad-4251-8490-7bb61f4cadc4')\"\n",
              "              title=\"Convert this dataframe to an interactive table.\"\n",
              "              style=\"display:none;\">\n",
              "        \n",
              "  <svg xmlns=\"http://www.w3.org/2000/svg\" height=\"24px\"viewBox=\"0 0 24 24\"\n",
              "       width=\"24px\">\n",
              "    <path d=\"M0 0h24v24H0V0z\" fill=\"none\"/>\n",
              "    <path d=\"M18.56 5.44l.94 2.06.94-2.06 2.06-.94-2.06-.94-.94-2.06-.94 2.06-2.06.94zm-11 1L8.5 8.5l.94-2.06 2.06-.94-2.06-.94L8.5 2.5l-.94 2.06-2.06.94zm10 10l.94 2.06.94-2.06 2.06-.94-2.06-.94-.94-2.06-.94 2.06-2.06.94z\"/><path d=\"M17.41 7.96l-1.37-1.37c-.4-.4-.92-.59-1.43-.59-.52 0-1.04.2-1.43.59L10.3 9.45l-7.72 7.72c-.78.78-.78 2.05 0 2.83L4 21.41c.39.39.9.59 1.41.59.51 0 1.02-.2 1.41-.59l7.78-7.78 2.81-2.81c.8-.78.8-2.07 0-2.86zM5.41 20L4 18.59l7.72-7.72 1.47 1.35L5.41 20z\"/>\n",
              "  </svg>\n",
              "      </button>\n",
              "      \n",
              "  <style>\n",
              "    .colab-df-container {\n",
              "      display:flex;\n",
              "      flex-wrap:wrap;\n",
              "      gap: 12px;\n",
              "    }\n",
              "\n",
              "    .colab-df-convert {\n",
              "      background-color: #E8F0FE;\n",
              "      border: none;\n",
              "      border-radius: 50%;\n",
              "      cursor: pointer;\n",
              "      display: none;\n",
              "      fill: #1967D2;\n",
              "      height: 32px;\n",
              "      padding: 0 0 0 0;\n",
              "      width: 32px;\n",
              "    }\n",
              "\n",
              "    .colab-df-convert:hover {\n",
              "      background-color: #E2EBFA;\n",
              "      box-shadow: 0px 1px 2px rgba(60, 64, 67, 0.3), 0px 1px 3px 1px rgba(60, 64, 67, 0.15);\n",
              "      fill: #174EA6;\n",
              "    }\n",
              "\n",
              "    [theme=dark] .colab-df-convert {\n",
              "      background-color: #3B4455;\n",
              "      fill: #D2E3FC;\n",
              "    }\n",
              "\n",
              "    [theme=dark] .colab-df-convert:hover {\n",
              "      background-color: #434B5C;\n",
              "      box-shadow: 0px 1px 3px 1px rgba(0, 0, 0, 0.15);\n",
              "      filter: drop-shadow(0px 1px 2px rgba(0, 0, 0, 0.3));\n",
              "      fill: #FFFFFF;\n",
              "    }\n",
              "  </style>\n",
              "\n",
              "      <script>\n",
              "        const buttonEl =\n",
              "          document.querySelector('#df-c77588aa-d2ad-4251-8490-7bb61f4cadc4 button.colab-df-convert');\n",
              "        buttonEl.style.display =\n",
              "          google.colab.kernel.accessAllowed ? 'block' : 'none';\n",
              "\n",
              "        async function convertToInteractive(key) {\n",
              "          const element = document.querySelector('#df-c77588aa-d2ad-4251-8490-7bb61f4cadc4');\n",
              "          const dataTable =\n",
              "            await google.colab.kernel.invokeFunction('convertToInteractive',\n",
              "                                                     [key], {});\n",
              "          if (!dataTable) return;\n",
              "\n",
              "          const docLinkHtml = 'Like what you see? Visit the ' +\n",
              "            '<a target=\"_blank\" href=https://colab.research.google.com/notebooks/data_table.ipynb>data table notebook</a>'\n",
              "            + ' to learn more about interactive tables.';\n",
              "          element.innerHTML = '';\n",
              "          dataTable['output_type'] = 'display_data';\n",
              "          await google.colab.output.renderOutput(dataTable, element);\n",
              "          const docLink = document.createElement('div');\n",
              "          docLink.innerHTML = docLinkHtml;\n",
              "          element.appendChild(docLink);\n",
              "        }\n",
              "      </script>\n",
              "    </div>\n",
              "  </div>\n",
              "  "
            ]
          },
          "metadata": {},
          "execution_count": 66
        }
      ]
    },
    {
      "cell_type": "markdown",
      "id": "97fa7714",
      "metadata": {
        "id": "97fa7714"
      },
      "source": [
        ">1.1.7 Which state had the highest **life expectancy** on average over all the years covered by the dataset?"
      ]
    },
    {
      "cell_type": "code",
      "execution_count": null,
      "id": "c45b40d5",
      "metadata": {
        "id": "c45b40d5",
        "colab": {
          "base_uri": "https://localhost:8080/"
        },
        "outputId": "8b4fc17e-0f2f-4ad4-9c5f-c024d4ffaa32"
      },
      "outputs": [
        {
          "output_type": "stream",
          "name": "stdout",
          "text": [
            "82.5375\n",
            "Japan\n"
          ]
        }
      ],
      "source": [
        "# Group the countries and then take its mean \n",
        "#df.groupby('Country')['Life expectancy'].mean()\n",
        "\n",
        "maxClm_average = df_droplife.groupby('Country')['Life expectancy'].mean().max()\n",
        "maxIdx_average = df_droplife.groupby('Country')['Life expectancy'].mean().idxmax()\n",
        "print(maxClm_average)\n",
        "print(maxIdx_average)"
      ]
    },
    {
      "cell_type": "markdown",
      "id": "ed658bc8",
      "metadata": {
        "id": "ed658bc8"
      },
      "source": [
        ">1.1.8 What percentage of developing countries have GDP per capita (averaged over the period) higher than 1000? Drop countries with missing GDP for this question. Round up to 3 decimal points. ONLY for this question, you will need to drop the rows that have NaN as GDP.\n"
      ]
    },
    {
      "cell_type": "code",
      "execution_count": null,
      "id": "9f091e90",
      "metadata": {
        "id": "9f091e90"
      },
      "outputs": [],
      "source": [
        "# Drop the rows with NaN expectancy in GDP\n",
        "df_dropgdp=df.dropna(subset=['Gdp'])"
      ]
    },
    {
      "cell_type": "code",
      "source": [
        "#Mean GDP's\n",
        "#df_dropgdp.groupby('Country')['Gdp'].mean()\n",
        "\n",
        "#Mean GDP's over 1000 and round 3 decimals points\n",
        "df_dropgdp[df_dropgdp.Gdp > 1000].groupby('Country')['Gdp'].mean().round(decimals=3)"
      ],
      "metadata": {
        "colab": {
          "base_uri": "https://localhost:8080/"
        },
        "id": "SLnv2xQb31io",
        "outputId": "621475a5-1bcb-4679-a449-b31be4121977"
      },
      "id": "SLnv2xQb31io",
      "execution_count": null,
      "outputs": [
        {
          "output_type": "execute_result",
          "data": {
            "text/plain": [
              "Country\n",
              "Albania                  3211.664\n",
              "Algeria                  3683.091\n",
              "Angola                   3457.745\n",
              "Antigua and Barbuda      9759.306\n",
              "Argentina                8488.399\n",
              "                          ...    \n",
              "United Arab Emirates    22110.367\n",
              "Uruguay                  9418.969\n",
              "Uzbekistan               1573.408\n",
              "Vanuatu                  2408.584\n",
              "Zambia                   1486.334\n",
              "Name: Gdp, Length: 133, dtype: float64"
            ]
          },
          "metadata": {},
          "execution_count": 44
        }
      ]
    },
    {
      "cell_type": "markdown",
      "id": "952cf424",
      "metadata": {
        "id": "952cf424"
      },
      "source": [
        "### 1.2 Data types\n",
        "\n",
        ">1.2.1. List the different features and their data type. ¶\n"
      ]
    },
    {
      "cell_type": "code",
      "execution_count": null,
      "id": "1f22cde4",
      "metadata": {
        "id": "1f22cde4",
        "colab": {
          "base_uri": "https://localhost:8080/"
        },
        "outputId": "ead2e95f-b75e-4d2b-eda9-f989d7f01bcc"
      },
      "outputs": [
        {
          "output_type": "execute_result",
          "data": {
            "text/plain": [
              "(2938, 14)"
            ]
          },
          "metadata": {},
          "execution_count": 47
        }
      ],
      "source": [
        "# Features\n",
        "df.shape"
      ]
    },
    {
      "cell_type": "code",
      "source": [
        "# Data Type\n",
        "df.dtypes"
      ],
      "metadata": {
        "colab": {
          "base_uri": "https://localhost:8080/"
        },
        "id": "W3hLAV1e-Y-B",
        "outputId": "3e05616d-a0f4-46fd-8513-44869cbb0ca8"
      },
      "id": "W3hLAV1e-Y-B",
      "execution_count": null,
      "outputs": [
        {
          "output_type": "execute_result",
          "data": {
            "text/plain": [
              "Country                    object\n",
              "Year                        int64\n",
              "Status                     object\n",
              "Life expectancy           float64\n",
              "Infant deaths               int64\n",
              "Percentage expenditure    float64\n",
              "Hepatitis b               float64\n",
              "Measles                     int64\n",
              "Bmi                       float64\n",
              "Polio                     float64\n",
              "Hiv/aids                  float64\n",
              "Gdp                       float64\n",
              "Population                float64\n",
              "Schooling                 float64\n",
              "dtype: object"
            ]
          },
          "metadata": {},
          "execution_count": 49
        }
      ]
    },
    {
      "cell_type": "markdown",
      "id": "6ce572ee",
      "metadata": {
        "id": "6ce572ee"
      },
      "source": [
        ">1.2.2. Are there any duplicated entries?"
      ]
    },
    {
      "cell_type": "code",
      "execution_count": null,
      "id": "5c5b226c",
      "metadata": {
        "id": "5c5b226c",
        "colab": {
          "base_uri": "https://localhost:8080/",
          "height": 111
        },
        "outputId": "7b0a390c-3425-4f39-ceb0-60cc33036680"
      },
      "outputs": [
        {
          "output_type": "execute_result",
          "data": {
            "text/plain": [
              "Empty DataFrame\n",
              "Columns: [Country, Year, Status, Life expectancy, Infant deaths, Percentage expenditure, Hepatitis b, Measles, Bmi, Polio, Hiv/aids, Gdp, Population, Schooling]\n",
              "Index: []"
            ],
            "text/html": [
              "\n",
              "  <div id=\"df-3cd4a0ad-1695-4bcd-b384-3f4547113859\">\n",
              "    <div class=\"colab-df-container\">\n",
              "      <div>\n",
              "<style scoped>\n",
              "    .dataframe tbody tr th:only-of-type {\n",
              "        vertical-align: middle;\n",
              "    }\n",
              "\n",
              "    .dataframe tbody tr th {\n",
              "        vertical-align: top;\n",
              "    }\n",
              "\n",
              "    .dataframe thead th {\n",
              "        text-align: right;\n",
              "    }\n",
              "</style>\n",
              "<table border=\"1\" class=\"dataframe\">\n",
              "  <thead>\n",
              "    <tr style=\"text-align: right;\">\n",
              "      <th></th>\n",
              "      <th>Country</th>\n",
              "      <th>Year</th>\n",
              "      <th>Status</th>\n",
              "      <th>Life expectancy</th>\n",
              "      <th>Infant deaths</th>\n",
              "      <th>Percentage expenditure</th>\n",
              "      <th>Hepatitis b</th>\n",
              "      <th>Measles</th>\n",
              "      <th>Bmi</th>\n",
              "      <th>Polio</th>\n",
              "      <th>Hiv/aids</th>\n",
              "      <th>Gdp</th>\n",
              "      <th>Population</th>\n",
              "      <th>Schooling</th>\n",
              "    </tr>\n",
              "  </thead>\n",
              "  <tbody>\n",
              "  </tbody>\n",
              "</table>\n",
              "</div>\n",
              "      <button class=\"colab-df-convert\" onclick=\"convertToInteractive('df-3cd4a0ad-1695-4bcd-b384-3f4547113859')\"\n",
              "              title=\"Convert this dataframe to an interactive table.\"\n",
              "              style=\"display:none;\">\n",
              "        \n",
              "  <svg xmlns=\"http://www.w3.org/2000/svg\" height=\"24px\"viewBox=\"0 0 24 24\"\n",
              "       width=\"24px\">\n",
              "    <path d=\"M0 0h24v24H0V0z\" fill=\"none\"/>\n",
              "    <path d=\"M18.56 5.44l.94 2.06.94-2.06 2.06-.94-2.06-.94-.94-2.06-.94 2.06-2.06.94zm-11 1L8.5 8.5l.94-2.06 2.06-.94-2.06-.94L8.5 2.5l-.94 2.06-2.06.94zm10 10l.94 2.06.94-2.06 2.06-.94-2.06-.94-.94-2.06-.94 2.06-2.06.94z\"/><path d=\"M17.41 7.96l-1.37-1.37c-.4-.4-.92-.59-1.43-.59-.52 0-1.04.2-1.43.59L10.3 9.45l-7.72 7.72c-.78.78-.78 2.05 0 2.83L4 21.41c.39.39.9.59 1.41.59.51 0 1.02-.2 1.41-.59l7.78-7.78 2.81-2.81c.8-.78.8-2.07 0-2.86zM5.41 20L4 18.59l7.72-7.72 1.47 1.35L5.41 20z\"/>\n",
              "  </svg>\n",
              "      </button>\n",
              "      \n",
              "  <style>\n",
              "    .colab-df-container {\n",
              "      display:flex;\n",
              "      flex-wrap:wrap;\n",
              "      gap: 12px;\n",
              "    }\n",
              "\n",
              "    .colab-df-convert {\n",
              "      background-color: #E8F0FE;\n",
              "      border: none;\n",
              "      border-radius: 50%;\n",
              "      cursor: pointer;\n",
              "      display: none;\n",
              "      fill: #1967D2;\n",
              "      height: 32px;\n",
              "      padding: 0 0 0 0;\n",
              "      width: 32px;\n",
              "    }\n",
              "\n",
              "    .colab-df-convert:hover {\n",
              "      background-color: #E2EBFA;\n",
              "      box-shadow: 0px 1px 2px rgba(60, 64, 67, 0.3), 0px 1px 3px 1px rgba(60, 64, 67, 0.15);\n",
              "      fill: #174EA6;\n",
              "    }\n",
              "\n",
              "    [theme=dark] .colab-df-convert {\n",
              "      background-color: #3B4455;\n",
              "      fill: #D2E3FC;\n",
              "    }\n",
              "\n",
              "    [theme=dark] .colab-df-convert:hover {\n",
              "      background-color: #434B5C;\n",
              "      box-shadow: 0px 1px 3px 1px rgba(0, 0, 0, 0.15);\n",
              "      filter: drop-shadow(0px 1px 2px rgba(0, 0, 0, 0.3));\n",
              "      fill: #FFFFFF;\n",
              "    }\n",
              "  </style>\n",
              "\n",
              "      <script>\n",
              "        const buttonEl =\n",
              "          document.querySelector('#df-3cd4a0ad-1695-4bcd-b384-3f4547113859 button.colab-df-convert');\n",
              "        buttonEl.style.display =\n",
              "          google.colab.kernel.accessAllowed ? 'block' : 'none';\n",
              "\n",
              "        async function convertToInteractive(key) {\n",
              "          const element = document.querySelector('#df-3cd4a0ad-1695-4bcd-b384-3f4547113859');\n",
              "          const dataTable =\n",
              "            await google.colab.kernel.invokeFunction('convertToInteractive',\n",
              "                                                     [key], {});\n",
              "          if (!dataTable) return;\n",
              "\n",
              "          const docLinkHtml = 'Like what you see? Visit the ' +\n",
              "            '<a target=\"_blank\" href=https://colab.research.google.com/notebooks/data_table.ipynb>data table notebook</a>'\n",
              "            + ' to learn more about interactive tables.';\n",
              "          element.innerHTML = '';\n",
              "          dataTable['output_type'] = 'display_data';\n",
              "          await google.colab.output.renderOutput(dataTable, element);\n",
              "          const docLink = document.createElement('div');\n",
              "          docLink.innerHTML = docLinkHtml;\n",
              "          element.appendChild(docLink);\n",
              "        }\n",
              "      </script>\n",
              "    </div>\n",
              "  </div>\n",
              "  "
            ]
          },
          "metadata": {},
          "execution_count": 84
        }
      ],
      "source": [
        "# This gives a Boolean data type\n",
        "# None are duplicated here\n",
        "df.loc[df.duplicated()=='True', :]"
      ]
    },
    {
      "cell_type": "markdown",
      "id": "2b22dd60",
      "metadata": {
        "id": "2b22dd60"
      },
      "source": [
        ">1.2.3. Change the data type for the following columns: Country (from object to string), Status (from object to category)\n"
      ]
    },
    {
      "cell_type": "code",
      "execution_count": null,
      "id": "7e576111",
      "metadata": {
        "id": "7e576111",
        "colab": {
          "base_uri": "https://localhost:8080/"
        },
        "outputId": "4f67631d-6bf6-4827-8271-752b7a065018"
      },
      "outputs": [
        {
          "output_type": "execute_result",
          "data": {
            "text/plain": [
              "Country                             string\n",
              "Year                                 int64\n",
              "Status                              object\n",
              "Life expectancy                    float64\n",
              "Adult Mortality                    float64\n",
              "infant deaths                        int64\n",
              "Alcohol                            float64\n",
              "percentage expenditure             float64\n",
              "Hepatitis B                        float64\n",
              "Measles                              int64\n",
              " BMI                               float64\n",
              "under-five deaths                    int64\n",
              "Polio                              float64\n",
              "Total expenditure                  float64\n",
              "Diphtheria                         float64\n",
              " HIV/AIDS                          float64\n",
              "GDP                                float64\n",
              "Population                         float64\n",
              " thinness  1-19 years              float64\n",
              " thinness 5-9 years                float64\n",
              "Income composition of resources    float64\n",
              "Schooling                          float64\n",
              "dtype: object"
            ]
          },
          "metadata": {},
          "execution_count": 100
        }
      ],
      "source": [
        "# YOUR CODE HERE\n",
        "#d = df['Country'].astype('|S')\n",
        "df.astype({'Country':'string'}).dtypes"
      ]
    },
    {
      "cell_type": "markdown",
      "id": "0d9dfea9",
      "metadata": {
        "id": "0d9dfea9"
      },
      "source": [
        ">1.2.4. For which period have these data samples been collected? (i.e, the oldest and the most recent entries in the dataset)"
      ]
    },
    {
      "cell_type": "code",
      "source": [
        "#Oldest entries in the dataset \n",
        "df['Year'].min() "
      ],
      "metadata": {
        "colab": {
          "base_uri": "https://localhost:8080/"
        },
        "id": "Jhi_f5F2RPfV",
        "outputId": "d31254cd-0364-45b0-8694-962f16a28961"
      },
      "id": "Jhi_f5F2RPfV",
      "execution_count": null,
      "outputs": [
        {
          "output_type": "execute_result",
          "data": {
            "text/plain": [
              "2000"
            ]
          },
          "metadata": {},
          "execution_count": 103
        }
      ]
    },
    {
      "cell_type": "code",
      "source": [
        "#Most recent entries in the dataset \n",
        "df['Year'].max()"
      ],
      "metadata": {
        "colab": {
          "base_uri": "https://localhost:8080/"
        },
        "id": "C8LTd37YRVOn",
        "outputId": "6935ae0c-fa8a-4c61-e948-fbaefcd708bb"
      },
      "id": "C8LTd37YRVOn",
      "execution_count": null,
      "outputs": [
        {
          "output_type": "execute_result",
          "data": {
            "text/plain": [
              "2015"
            ]
          },
          "metadata": {},
          "execution_count": 104
        }
      ]
    },
    {
      "cell_type": "markdown",
      "id": "2077bdc4",
      "metadata": {
        "id": "2077bdc4"
      },
      "source": [
        "\n",
        "## 2. Exploratory Data Analysis and Visualization"
      ]
    },
    {
      "cell_type": "markdown",
      "id": "c2401911",
      "metadata": {
        "id": "c2401911"
      },
      "source": [
        ">2.1 Which are the top 5 countries that had the highest **population growth** over the period included in the dataset?\n",
        "Consider population growth as the difference between the population in the last year and the first year of measurement\n",
        "\n",
        ">Hint: for each country, the data follows a certain order..."
      ]
    },
    {
      "cell_type": "code",
      "source": [
        "# Drop the rows with NaN expectancy in Life expectancy\n",
        "# df_droppop=df.dropna(subset=['Population'])"
      ],
      "metadata": {
        "id": "zCuetuA-Z403"
      },
      "id": "zCuetuA-Z403",
      "execution_count": 119,
      "outputs": []
    },
    {
      "cell_type": "code",
      "execution_count": 130,
      "id": "ec50ac9b",
      "metadata": {
        "id": "ec50ac9b",
        "colab": {
          "base_uri": "https://localhost:8080/"
        },
        "outputId": "ed148ac2-a1e5-4032-bf65-63821a383bca"
      },
      "outputs": [
        {
          "output_type": "stream",
          "name": "stdout",
          "text": [
            "                                Country  Year  Population\n",
            "0                           Afghanistan  2000    293756.0\n",
            "1                               Albania  2000     38927.0\n",
            "2                               Algeria  2000   3118366.0\n",
            "3                                Angola  2000   1644924.0\n",
            "4                   Antigua and Barbuda  2000         NaN\n",
            "..                                  ...   ...         ...\n",
            "178  Venezuela (Bolivarian Republic of)  2000         NaN\n",
            "179                            Viet Nam  2000         NaN\n",
            "180                               Yemen  2000         NaN\n",
            "181                              Zambia  2000   1531221.0\n",
            "182                            Zimbabwe  2000  12222251.0\n",
            "\n",
            "[183 rows x 3 columns]\n"
          ]
        }
      ],
      "source": [
        "# Population of each country in the year 2000\n",
        "df_pop_2000=df.loc[:, ['Country', 'Year', 'Population']][df['Year'] == 2000]\n",
        "df_pop_2000=df_pop_2000.reset_index(drop=True)\n",
        "print(df_pop_2000)"
      ]
    },
    {
      "cell_type": "code",
      "source": [
        "# Population of each country in the year 2015\n",
        "df_pop_2015=df.loc[:, ['Country', 'Year', 'Population']][df['Year'] == 2015]\n",
        "df_pop_2015=df_pop_2015.reset_index(drop=True)\n",
        "print(df_pop_2015)"
      ],
      "metadata": {
        "colab": {
          "base_uri": "https://localhost:8080/"
        },
        "id": "sR2LjEjaWkdb",
        "outputId": "50935934-fb66-4870-923f-38c4cd60a28e"
      },
      "id": "sR2LjEjaWkdb",
      "execution_count": 131,
      "outputs": [
        {
          "output_type": "stream",
          "name": "stdout",
          "text": [
            "                                Country  Year  Population\n",
            "0                           Afghanistan  2015  33736494.0\n",
            "1                               Albania  2015     28873.0\n",
            "2                               Algeria  2015  39871528.0\n",
            "3                                Angola  2015   2785935.0\n",
            "4                   Antigua and Barbuda  2015         NaN\n",
            "..                                  ...   ...         ...\n",
            "178  Venezuela (Bolivarian Republic of)  2015         NaN\n",
            "179                            Viet Nam  2015         NaN\n",
            "180                               Yemen  2015         NaN\n",
            "181                              Zambia  2015    161587.0\n",
            "182                            Zimbabwe  2015  15777451.0\n",
            "\n",
            "[183 rows x 3 columns]\n"
          ]
        }
      ]
    },
    {
      "cell_type": "code",
      "source": [
        "#  Population comparison between 2000 and 2015 (Compare dataframe)\n",
        "df_pop_compare= df_pop_2015.compare(df_pop_2000,keep_shape=True, keep_equal=True)\n",
        "print(df_pop_compare)"
      ],
      "metadata": {
        "colab": {
          "base_uri": "https://localhost:8080/"
        },
        "id": "zNMhtVp8dpRc",
        "outputId": "1091f5ce-0996-4ff7-c8a2-39033ad566c1"
      },
      "id": "zNMhtVp8dpRc",
      "execution_count": 189,
      "outputs": [
        {
          "output_type": "stream",
          "name": "stdout",
          "text": [
            "                                Country                                      \\\n",
            "                                   self                               other   \n",
            "0                           Afghanistan                         Afghanistan   \n",
            "1                               Albania                             Albania   \n",
            "2                               Algeria                             Algeria   \n",
            "3                                Angola                              Angola   \n",
            "4                   Antigua and Barbuda                 Antigua and Barbuda   \n",
            "..                                  ...                                 ...   \n",
            "178  Venezuela (Bolivarian Republic of)  Venezuela (Bolivarian Republic of)   \n",
            "179                            Viet Nam                            Viet Nam   \n",
            "180                               Yemen                               Yemen   \n",
            "181                              Zambia                              Zambia   \n",
            "182                            Zimbabwe                            Zimbabwe   \n",
            "\n",
            "     Year        Population              \n",
            "     self other        self       other  \n",
            "0    2015  2000  33736494.0    293756.0  \n",
            "1    2015  2000     28873.0     38927.0  \n",
            "2    2015  2000  39871528.0   3118366.0  \n",
            "3    2015  2000   2785935.0   1644924.0  \n",
            "4    2015  2000         NaN         NaN  \n",
            "..    ...   ...         ...         ...  \n",
            "178  2015  2000         NaN         NaN  \n",
            "179  2015  2000         NaN         NaN  \n",
            "180  2015  2000         NaN         NaN  \n",
            "181  2015  2000    161587.0   1531221.0  \n",
            "182  2015  2000  15777451.0  12222251.0  \n",
            "\n",
            "[183 rows x 6 columns]\n"
          ]
        }
      ]
    },
    {
      "cell_type": "code",
      "source": [
        "# Population growth\n",
        "df_pop_compare['difference'] = df_pop_compare[\"Population\", 'self'] - df_pop_compare[\"Population\", 'other']\n",
        "#print(df_pop_compare)\n",
        "print(df_pop_compare.sort_values(by=['difference'], ascending=False)['Country'].head(5))"
      ],
      "metadata": {
        "colab": {
          "base_uri": "https://localhost:8080/"
        },
        "id": "S4wnP_ZHfsCg",
        "outputId": "78b43dd9-122a-4f10-b708-6159bbee221e"
      },
      "id": "S4wnP_ZHfsCg",
      "execution_count": 191,
      "outputs": [
        {
          "output_type": "stream",
          "name": "stdout",
          "text": [
            "          self      other\n",
            "75   Indonesia  Indonesia\n",
            "118    Nigeria    Nigeria\n",
            "62     Germany    Germany\n",
            "167     Turkey     Turkey\n",
            "36    Colombia   Colombia\n"
          ]
        }
      ]
    },
    {
      "cell_type": "code",
      "source": [
        "print(df_pop_compare.sort_values(by=['difference'], ascending=False)['difference'].head(5))"
      ],
      "metadata": {
        "colab": {
          "base_uri": "https://localhost:8080/"
        },
        "id": "iXjyVwmRrDyo",
        "outputId": "f86fccf5-9600-4790-d0ba-daa7412ec202"
      },
      "id": "iXjyVwmRrDyo",
      "execution_count": 192,
      "outputs": [
        {
          "output_type": "stream",
          "name": "stdout",
          "text": [
            "75     237007684.0\n",
            "118    179958215.0\n",
            "62      73465453.0\n",
            "167     71947351.0\n",
            "36      47784739.0\n",
            "Name: difference, dtype: float64\n"
          ]
        }
      ]
    },
    {
      "cell_type": "markdown",
      "source": [],
      "metadata": {
        "id": "6WOOwgZ-WkKF"
      },
      "id": "6WOOwgZ-WkKF"
    },
    {
      "cell_type": "markdown",
      "id": "871125ee",
      "metadata": {
        "id": "871125ee"
      },
      "source": [
        ">2.2 How many unique countries were included in the dataset?"
      ]
    },
    {
      "cell_type": "code",
      "execution_count": null,
      "id": "d616dc86",
      "metadata": {
        "id": "d616dc86"
      },
      "outputs": [],
      "source": [
        "# YOUR CODE HERE\n"
      ]
    },
    {
      "cell_type": "markdown",
      "id": "5e5d7b18",
      "metadata": {
        "id": "5e5d7b18"
      },
      "source": [
        ">...Plot the top ten countries by average GDP on a horizontal bar chart."
      ]
    },
    {
      "cell_type": "code",
      "execution_count": null,
      "id": "ed4a6318",
      "metadata": {
        "id": "ed4a6318"
      },
      "outputs": [],
      "source": [
        "# YOUR CODE HERE"
      ]
    },
    {
      "cell_type": "markdown",
      "id": "c64c6a56",
      "metadata": {
        "id": "c64c6a56"
      },
      "source": [
        ">2.3. Sometimes it is useful to group datapoints that share certain common traits. That's what we'll do in this composite question. All the modifications to the dataframe suggested here must be ONLY for the questions 2.3. So we suggest to generate a new dataframe for this question, to avoid affecting the main one.\n",
        "\n",
        "> 2.3.1 First, aggregate the data by country taking the mean of every numerical feature. At this point you should have 1 row per Country. Keep only the following features: `HIV/AIDS`,`Polio`,`Measles`,`Infant deaths`,`Hepatitis B`. (Remember, you might need the other features after question 2.3, so do not delete them from the main df)"
      ]
    },
    {
      "cell_type": "code",
      "execution_count": null,
      "id": "d3357125",
      "metadata": {
        "id": "d3357125"
      },
      "outputs": [],
      "source": [
        "# YOUR CODE HERE"
      ]
    },
    {
      "cell_type": "markdown",
      "id": "a0aedb3b",
      "metadata": {
        "id": "a0aedb3b"
      },
      "source": [
        "> 2.3.2 Then, keep only the following columns, and AFTERWARDS drop all the rows that have NaN values : `HIV/AIDS`,`Polio`,`Measles`,`Infant deaths`,`Hepatitis B`. (Remember, you might need them after question 2.3, so do not delete them from the main df)"
      ]
    },
    {
      "cell_type": "code",
      "execution_count": null,
      "id": "bedee774",
      "metadata": {
        "id": "bedee774"
      },
      "outputs": [],
      "source": [
        "# YOUR CODE HERE"
      ]
    },
    {
      "cell_type": "markdown",
      "id": "4c178f5b",
      "metadata": {
        "id": "4c178f5b"
      },
      "source": [
        "> 2.3.3 Then, build a new column in the dataset with a new composite index, the NHI (New Health Index). It integrates the situation of the country with regards to the HIV/AIDS, Polio, Measles, Infant deaths, Hepatitis B. The higher, the worse the situation. It needs to follow the following formula: $$BHI = 10*HIV + 2*Polio + \\sqrt{Measles} + (Infant deaths)^{2} + Hepatitis B$$"
      ]
    },
    {
      "cell_type": "code",
      "execution_count": null,
      "id": "d49d7e81",
      "metadata": {
        "id": "d49d7e81"
      },
      "outputs": [],
      "source": [
        "# YOUR CODE HERE"
      ]
    },
    {
      "cell_type": "markdown",
      "id": "03876467",
      "metadata": {
        "id": "03876467"
      },
      "source": [
        "> 2.3.4 After you added the column with the index, create another column, categorical, called \"Health risk\", which can have 4 different values:\n",
        "* Very high risk\n",
        "* High risk\n",
        "* Medium risk\n",
        "* Low risk\n",
        "> You should assign the value to each row depening on the quartile the datapoint belongs to, following the NHI. If it is in the lowest 25%, it needs to be low risk, if it's between 25 and 50%, it will be Medium, between 50 and 75% High risk, between 75% and 100% Very high risk.\n",
        "Hint: you may want to check the `qcut` function of Pandas.\n",
        "\n",
        "> Finally, count the values of each class you created. How many datapoints are \"High Risk\"?"
      ]
    },
    {
      "cell_type": "code",
      "execution_count": null,
      "id": "662ec22b",
      "metadata": {
        "id": "662ec22b"
      },
      "outputs": [],
      "source": [
        "# YOUR CODE HERE "
      ]
    },
    {
      "cell_type": "markdown",
      "id": "34bb4080",
      "metadata": {
        "id": "34bb4080"
      },
      "source": [
        ">2.4 Compare GDP in 2002 and in 2012. Were there any countries that had a lower GDP with respect to 2002? If so, how many?"
      ]
    },
    {
      "cell_type": "code",
      "execution_count": null,
      "id": "15a89547",
      "metadata": {
        "id": "15a89547"
      },
      "outputs": [],
      "source": [
        "# YOUR CODE HERE"
      ]
    },
    {
      "cell_type": "markdown",
      "id": "daab9fe9",
      "metadata": {
        "id": "daab9fe9"
      },
      "source": [
        ">2.5 Generate a table with the average life expectancy by year for three different groups: \n",
        ">* for all developing countries\n",
        ">* developed countries\n",
        ">* the overall aggregated values.\n",
        "\n",
        ">Then, plot the three trends in a line plot with the aggregated values for Life expectancy on y axis and the years on the x axis.\n"
      ]
    },
    {
      "cell_type": "code",
      "execution_count": null,
      "id": "78e924e2",
      "metadata": {
        "id": "78e924e2",
        "scrolled": true
      },
      "outputs": [],
      "source": [
        "# YOUR CODE HERE\n",
        "# Generate the table\n",
        "\n",
        "\n",
        "# Plot"
      ]
    },
    {
      "cell_type": "markdown",
      "id": "778bfb22",
      "metadata": {
        "id": "778bfb22"
      },
      "source": [
        ">2.6 Draw boxplots to compare the BMI (body mass index) between developed and developing countries. Before doing so, aggregate by country and average over time the BMI for each country. Remember to remove Nans. Do developed or developing have a higher median? Which has more outliers?"
      ]
    },
    {
      "cell_type": "code",
      "execution_count": null,
      "id": "6126f14d",
      "metadata": {
        "id": "6126f14d"
      },
      "outputs": [],
      "source": [
        "# YOUR CODE HERE"
      ]
    },
    {
      "cell_type": "markdown",
      "id": "5f0253ef",
      "metadata": {
        "id": "5f0253ef"
      },
      "source": [
        ">2.7 Using `folium`, plot on an interactive map the life expectancy of the countries represented in the dataset. You need to have a scale of colors, the more intense the color, the higher the life expectancy of the country.\n",
        ">\n",
        "> Only include 2015 data.\n",
        ">\n",
        ">A separate geojson file with latitudes and longitudes of the countries needs to be downloaded from [here](https://datahub.io/core/geo-countries). You should use the `folium.Choropleth` method and give the geojson file as `geo_data` parameter. The `key_on` parameter should be set to `\"feature.properties.ADMIN\"` because of the structure of the json file. Make sure to drop any missing values before plotting your map.\n",
        "\n",
        "\n",
        "\n",
        "\n"
      ]
    },
    {
      "cell_type": "code",
      "execution_count": null,
      "id": "02779a11",
      "metadata": {
        "id": "02779a11"
      },
      "outputs": [],
      "source": [
        "import folium\n",
        "geo = \"countries.geojson\"\n",
        "# YOUR CODE HERE"
      ]
    },
    {
      "cell_type": "markdown",
      "id": "f2c37c70",
      "metadata": {
        "id": "f2c37c70"
      },
      "source": [
        "## Before regression: One Hot Encoding"
      ]
    },
    {
      "cell_type": "markdown",
      "id": "697d3601",
      "metadata": {
        "id": "697d3601"
      },
      "source": [
        "Before moving on to the regression, we need to transform the categorical variables as dummy variables for the regression. In order to do so, we use a [One Hot Encoder](https://scikit-learn.org/stable/modules/generated/sklearn.preprocessing.OneHotEncoder.html). Pay attention: we need to consider \"year\" as a categorical variable as well, as it is not a continuous one. So the two features that you need to encode are: Year and Status. Add the features to the dataset. \n",
        "Reminder: when encoding n categories, we need to add n-1 features to avoid multicollinearity - the \"Dummy variable trap\"."
      ]
    },
    {
      "cell_type": "markdown",
      "id": "08213906",
      "metadata": {
        "id": "08213906"
      },
      "source": [
        ">2.8 How many features does the dataframe have now, after adding n-1 columns for year and m-1 for status, where n and m are respectively the number of categories possible?"
      ]
    },
    {
      "cell_type": "code",
      "execution_count": null,
      "id": "ea84e615",
      "metadata": {
        "id": "ea84e615"
      },
      "outputs": [],
      "source": [
        "from sklearn.preprocessing import OneHotEncoder"
      ]
    },
    {
      "cell_type": "code",
      "execution_count": null,
      "id": "66faa2ac",
      "metadata": {
        "id": "66faa2ac"
      },
      "outputs": [],
      "source": [
        "# YOUR CODE HERE"
      ]
    },
    {
      "cell_type": "markdown",
      "id": "cddc6205",
      "metadata": {
        "id": "cddc6205"
      },
      "source": [
        "## 3. Regression Analysis\n",
        "### 3.1 Intro to regression"
      ]
    },
    {
      "cell_type": "markdown",
      "id": "733c071c",
      "metadata": {
        "id": "733c071c"
      },
      "source": [
        "For this section we will try to build a model to predict the life expectancy, given other data regarding a country. Here we are providing the cleaned dataframe for you. The regression dataset is the same you've been working on until now with some additional cleaning. The features available are the following:\n",
        "* Alcohol\n",
        "* Schooling\n",
        "* GDP\n",
        "* Life expectancy\n",
        "* Percentage expenditure\n",
        "* One dummy feature for each year except for 1 (2000,2001,2002,...)\n",
        "* One dummy feature \"Developing\" indicating whether the country is a developing one or not"
      ]
    },
    {
      "cell_type": "markdown",
      "id": "58296995",
      "metadata": {
        "id": "58296995"
      },
      "source": [
        ">Load the data."
      ]
    },
    {
      "cell_type": "code",
      "execution_count": null,
      "id": "ee725745",
      "metadata": {
        "id": "ee725745"
      },
      "outputs": [],
      "source": [
        "#Upload the data\n",
        "new_data = pd.read_csv(\"Regression Analysis Data\")"
      ]
    },
    {
      "cell_type": "markdown",
      "id": "23b94d68",
      "metadata": {
        "id": "23b94d68"
      },
      "source": [
        ">3.1.1. Generate descriptive statistics"
      ]
    },
    {
      "cell_type": "code",
      "execution_count": null,
      "id": "3dc64839",
      "metadata": {
        "id": "3dc64839"
      },
      "outputs": [],
      "source": [
        "# YOUR CODE HERE\n"
      ]
    },
    {
      "cell_type": "markdown",
      "id": "cffa904b",
      "metadata": {
        "id": "cffa904b"
      },
      "source": [
        ">3.1.2. Plot the distribution of life expectancy in 2000 and in 2012. Then create a new column equal to the natural logarithm of life expectancy and plot its histogram as well, just for year 2000."
      ]
    },
    {
      "cell_type": "code",
      "execution_count": null,
      "id": "cd095c90",
      "metadata": {
        "id": "cd095c90"
      },
      "outputs": [],
      "source": [
        "# YOUR CODE HERE\n",
        "#Generate the first 2 histograms: 2000 and 2012\n",
        "\n",
        "\n"
      ]
    },
    {
      "cell_type": "code",
      "execution_count": null,
      "id": "b0c4359b",
      "metadata": {
        "id": "b0c4359b"
      },
      "outputs": [],
      "source": [
        "# YOUR CODE HERE\n",
        "#Add the new column with the log\n",
        "\n",
        "#Generate the second histogram: 2000, but with the log\n",
        "\n"
      ]
    },
    {
      "cell_type": "markdown",
      "id": "de453534",
      "metadata": {
        "id": "de453534"
      },
      "source": [
        ">3.1.3. Create 3 pairplots with the log of life expectancy on the horizontal axis and on the vertical axis GDP, population, schooling. Which seems to be the best predictor?\n"
      ]
    },
    {
      "cell_type": "code",
      "execution_count": null,
      "id": "791c3f2b",
      "metadata": {
        "id": "791c3f2b"
      },
      "outputs": [],
      "source": [
        "# YOUR CODE HERE"
      ]
    },
    {
      "cell_type": "markdown",
      "id": "26e59b86",
      "metadata": {
        "id": "26e59b86"
      },
      "source": [
        "## 3.2 Simple Linear Regression"
      ]
    },
    {
      "cell_type": "markdown",
      "id": "beb92990",
      "metadata": {
        "id": "beb92990"
      },
      "source": [
        ">3.2.1 Drop the feature \"Year\", since we have hot-encoded it. Regress, using the library `sklearn`, log of life expectancy on Alcohol, gdp, population, percentage expenditure, schooling, Developing, and all the dummy variables for the years.\n",
        "> \n",
        ">Select the dependent (y) and the independent variables (X)."
      ]
    },
    {
      "cell_type": "code",
      "execution_count": null,
      "id": "a66ac250",
      "metadata": {
        "id": "a66ac250"
      },
      "outputs": [],
      "source": [
        "# YOUR CODE HERE"
      ]
    },
    {
      "cell_type": "markdown",
      "id": "f0fcc79d",
      "metadata": {
        "id": "f0fcc79d"
      },
      "source": [
        ">3.2.2 Split your dataset into a training set (80%) and a test set (20%). Use sklearn.model_selection.train_test_split() and set the **random_state to 42.**"
      ]
    },
    {
      "cell_type": "code",
      "execution_count": null,
      "id": "a9ab982a",
      "metadata": {
        "id": "a9ab982a"
      },
      "outputs": [],
      "source": [
        "# YOUR CODE HERE\n"
      ]
    },
    {
      "cell_type": "markdown",
      "id": "32987cf8",
      "metadata": {
        "id": "32987cf8"
      },
      "source": [
        ">3.2.3 Train a linear regression model on the training data. What is the R^2 score for the test data?"
      ]
    },
    {
      "cell_type": "code",
      "execution_count": null,
      "id": "ba053d77",
      "metadata": {
        "id": "ba053d77"
      },
      "outputs": [],
      "source": [
        "# YOUR CODE HERE"
      ]
    },
    {
      "cell_type": "markdown",
      "id": "33aae726",
      "metadata": {
        "id": "33aae726"
      },
      "source": [
        ">3.2.4. Predict what would be the life expectancy of a (very small) country with an Alcohol consumption of 5 liters, GDP per capita of 800 dollars, a population of 300 individuals, 62 as percentage expenditure, 8 as schooling in year 2000. It is not a developing country."
      ]
    },
    {
      "cell_type": "code",
      "execution_count": null,
      "id": "9e5fda51",
      "metadata": {
        "id": "9e5fda51"
      },
      "outputs": [],
      "source": [
        "# YOUR CODE HERE"
      ]
    },
    {
      "cell_type": "markdown",
      "id": "0ed88806",
      "metadata": {
        "id": "0ed88806"
      },
      "source": [
        "## 3.3 Linear Regression with Standardization"
      ]
    },
    {
      "cell_type": "markdown",
      "id": "0ed3ea98",
      "metadata": {
        "id": "0ed3ea98"
      },
      "source": [
        "> 3.3.1. Apply a standard scaler to the following columns: Alcohol, gdp, population, percentage expenditure, schooling\n",
        "> \n",
        "> Hint: use the scaler on the already split data. Fit-transform the scaler on X_train and apply transform on X_test."
      ]
    },
    {
      "cell_type": "code",
      "execution_count": null,
      "id": "cac99fa4",
      "metadata": {
        "id": "cac99fa4"
      },
      "outputs": [],
      "source": [
        "# YOUR CODE HERE"
      ]
    },
    {
      "cell_type": "markdown",
      "id": "eb211204",
      "metadata": {
        "id": "eb211204"
      },
      "source": [
        "> 3.3.2 Train a linear regression model with the standardised data. What is the R^2 score for the test data?"
      ]
    },
    {
      "cell_type": "code",
      "execution_count": null,
      "id": "bef7cbfd",
      "metadata": {
        "id": "bef7cbfd"
      },
      "outputs": [],
      "source": [
        "# YOUR CODE HERE\n"
      ]
    },
    {
      "cell_type": "markdown",
      "id": "7ae1b9d5",
      "metadata": {
        "id": "7ae1b9d5"
      },
      "source": [
        "> 3.3.3 With the new model, predict, as before, what would be the life expectancy of a (very small) country with an Alcohol consumption of 5 liters, GDP per capita of 800 dollars, a population of 300 individuals, 62 as percentage expenditure, 8 as schooling in year 2000. It is not a developing country."
      ]
    },
    {
      "cell_type": "code",
      "execution_count": null,
      "id": "71804228",
      "metadata": {
        "id": "71804228"
      },
      "outputs": [],
      "source": [
        "# YOUR CODE HERE"
      ]
    },
    {
      "cell_type": "markdown",
      "id": "d921b338",
      "metadata": {
        "id": "d921b338"
      },
      "source": [
        ">3.3.4 Looking at the coefficients from the linear regression with standardization, identify which variable is the one with the strongest impact on the dependent variable."
      ]
    },
    {
      "cell_type": "code",
      "execution_count": null,
      "id": "24bd6a35",
      "metadata": {
        "id": "24bd6a35"
      },
      "outputs": [],
      "source": [
        "# YOUR CODE HERE"
      ]
    },
    {
      "cell_type": "markdown",
      "id": "a3ee367e",
      "metadata": {
        "id": "a3ee367e"
      },
      "source": [
        "> 3.3.5 Calculate the adjusted R-squared and identify the optimum regression coefficients using linear regression with standardisation. \n",
        ">\n",
        "> Hint: calculate the adjusted R-squared for the full model with linear regression and standardisation (as above). The try dropping either one of the columns: `GDP`, `Population` and all the year features and recalculate adjusted R-squared for every new model. Identify which combination of features gives the highest adjusted R-squared. \n",
        ">\n",
        ">Check out this documentation file on the [adjusted R-squared](https://www.statology.org/adjusted-r-squared-in-python/).\n",
        ">\n",
        "> Remember to use 42 as the **random_state**"
      ]
    },
    {
      "cell_type": "code",
      "execution_count": null,
      "id": "e3de67a1",
      "metadata": {
        "id": "e3de67a1"
      },
      "outputs": [],
      "source": [
        "# YOUR CODE HERE\n"
      ]
    },
    {
      "cell_type": "markdown",
      "id": "aae8c757",
      "metadata": {
        "id": "aae8c757"
      },
      "source": [
        ">3.3.6 Train the model when you drop `GDP` and calculate the adjusted R-squared."
      ]
    },
    {
      "cell_type": "code",
      "execution_count": null,
      "id": "1557cf4b",
      "metadata": {
        "id": "1557cf4b"
      },
      "outputs": [],
      "source": [
        "# YOUR CODE HERE"
      ]
    },
    {
      "cell_type": "markdown",
      "id": "7a82f734",
      "metadata": {
        "id": "7a82f734"
      },
      "source": [
        "> 3.3.7 Train the model when you drop `Population` and calculate the adjusted R-squared. Pay attention: you only need to drop `Population`, you need `GDP` back in there."
      ]
    },
    {
      "cell_type": "code",
      "execution_count": null,
      "id": "51c6e10f",
      "metadata": {
        "id": "51c6e10f"
      },
      "outputs": [],
      "source": [
        "# YOUR CODE HERE"
      ]
    },
    {
      "cell_type": "markdown",
      "id": "332e6b7e",
      "metadata": {
        "id": "332e6b7e"
      },
      "source": [
        ">3.3.8 Train the model when you drop all the year features and calculate the adjusted R-squared. Pay attention: you only need to drop all the year features, you need `GDP` and `Population` back in there. "
      ]
    },
    {
      "cell_type": "code",
      "execution_count": null,
      "id": "552b76da",
      "metadata": {
        "id": "552b76da"
      },
      "outputs": [],
      "source": [
        "# YOUR CODE HERE"
      ]
    }
  ],
  "metadata": {
    "kernelspec": {
      "display_name": "Python 3",
      "language": "python",
      "name": "python3"
    },
    "language_info": {
      "codemirror_mode": {
        "name": "ipython",
        "version": 3
      },
      "file_extension": ".py",
      "mimetype": "text/x-python",
      "name": "python",
      "nbconvert_exporter": "python",
      "pygments_lexer": "ipython3",
      "version": "3.8.8"
    },
    "toc": {
      "base_numbering": 1,
      "nav_menu": {},
      "number_sections": false,
      "sideBar": true,
      "skip_h1_title": true,
      "title_cell": "Table of Contents",
      "title_sidebar": "Contents",
      "toc_cell": false,
      "toc_position": {
        "height": "calc(100% - 180px)",
        "left": "10px",
        "top": "150px",
        "width": "288px"
      },
      "toc_section_display": true,
      "toc_window_display": false
    },
    "colab": {
      "provenance": [],
      "collapsed_sections": [],
      "toc_visible": true,
      "include_colab_link": true
    }
  },
  "nbformat": 4,
  "nbformat_minor": 5
}