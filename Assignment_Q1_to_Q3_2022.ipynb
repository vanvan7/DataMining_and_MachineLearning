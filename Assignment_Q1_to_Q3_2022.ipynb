{
  "cells": [
    {
      "cell_type": "markdown",
      "id": "af19791f",
      "metadata": {
        "id": "af19791f"
      },
      "source": [
        "# Data Mining and Machine Learning - Assignment questions 1 to 3\n",
        "\n",
        "> Topics Covered: Data Cleaning, Exploratory Data Analysis, Visualization and Regression \n",
        "\n",
        "**Due: Oct 16 @23.59 (Lausanne Time)**\n",
        "\n",
        "\n",
        "This assignment is the opportunity to apply the different concepts seen in class so far to a new dataset on the life expectancy.\n",
        "\n",
        "Run the first few cells to load the dataset and then get started with the questions! **Pay attention:** in order to start working, open the notebook in Colab, and make sure to make a copy of the notebook in your private Google Drive. After you finished, export the notebook as a .ipynb file and upload it on Moodle (Section \"Assignment\").\n",
        "\n",
        "To complete the assignment you have to do ***both***:\n",
        "\n",
        "1. Complete the exercises and submit your Python notebook\n",
        "2. Answer the questions to the quiz on Moodle\n",
        ">Note: You can only complete the quiz one time. Have your notebook with the answers ready for answering the quiz. The quiz will be made available Monday 10th October at 7p.m.\n",
        "\n",
        "Only the quiz questions accounts for your grade. Nevertheless, the answers to the quiz should be supported by your code in the notebook. If they are not, you will not receive points for them. \n",
        "\n",
        "**IMPORTANT!** You can discuss the questions with other students but **do not exchange code!** This is individual work. We will run your code and check for similarities. In case of high similarity scores between two notebooks, both the authors will get 0 points for the assignment.\n",
        "\n",
        "You can post your questions in slack channel #assignments.\n",
        "\n",
        "\n",
        "If there is need for further clarifications on the questions, after the assignment is released, we will update the file on GitHub, so make sure you check the git repo of the class for updates.\n",
        "\n",
        "Good luck!"
      ]
    },
    {
      "cell_type": "markdown",
      "id": "5400e551",
      "metadata": {
        "id": "5400e551"
      },
      "source": [
        "[![Open in Colab](https://colab.research.google.com/assets/colab-badge.svg)](https://colab.research.google.com/github/michalis0/DataMining_and_MachineLearning/blob/master/Assignment/Assignment_Q1_to_Q3_2022/Assignment_Q1_to_Q3_2022.ipynb)\n",
        "\n",
        "\n",
        "\n",
        "\n"
      ]
    },
    {
      "cell_type": "code",
      "execution_count": 1,
      "id": "a9c653d4",
      "metadata": {
        "id": "a9c653d4"
      },
      "outputs": [],
      "source": [
        "# Import required packages\n",
        "\n",
        "import pandas as pd\n",
        "import numpy as np\n",
        "import matplotlib.pyplot as plt\n",
        "import seaborn as sns\n",
        "%matplotlib inline\n",
        "sns.set_style(\"whitegrid\")"
      ]
    },
    {
      "cell_type": "code",
      "execution_count": 4,
      "id": "ac8305d0",
      "metadata": {
        "id": "ac8305d0"
      },
      "outputs": [],
      "source": [
        "# Load the data\n",
        "df = pd.read_csv(\"/content/drive/MyDrive/Colab Notebooks/Life Expectancy Data.csv\")"
      ]
    },
    {
      "cell_type": "code",
      "source": [
        "from google.colab import drive\n",
        "drive.mount('/content/drive')"
      ],
      "metadata": {
        "id": "MRKU-sZ2F5rl",
        "outputId": "dc51814d-7ca3-43da-bfa3-78c875283ecf",
        "colab": {
          "base_uri": "https://localhost:8080/"
        }
      },
      "id": "MRKU-sZ2F5rl",
      "execution_count": 3,
      "outputs": [
        {
          "output_type": "stream",
          "name": "stdout",
          "text": [
            "Mounted at /content/drive\n"
          ]
        }
      ]
    },
    {
      "cell_type": "markdown",
      "id": "20330efe",
      "metadata": {
        "id": "20330efe"
      },
      "source": [
        "For this assignment, we use data gathered by the WHO (World Health Organization) regarding many countries, over several years. The dataset includes information on items purchased from this store, including for each item or article:\n",
        "* **Country**\n",
        "* **Year**: year of the measurement\n",
        "* **Status**: Developed or Developing status\n",
        "* **Life expectancy**: Life Expectancy in years\n",
        "* **Adult Mortality**: Adult Mortality Rates of both sexes (probability of dying between 15 and 60 years per 1000 population)\n",
        "* **Alcohol**: Alcohol, recorded per capita (individuals aged 15+) consumption (in litres of pure alcohol)\n",
        "* **Hepatitis B**: Hepatitis B (HepB) immunization coverage among 1-year-olds (%)\n",
        "* **Measles**: Measles - number of reported cases per 1000 population\n",
        "* **BMI**: Average Body Mass Index of entire population\n",
        "* **under-five deaths**: Number of under-five deaths per 1000 population\n",
        "* **Polio**: Polio (Pol3) immunization coverage among 1-year-olds (%)\n",
        "* **Total expenditure**: General government expenditure on health as a percentage of total government expenditure (%)\n",
        "* **Diphtheria**: Diphtheria tetanus toxoid and pertussis (DTP3) immunization coverage among 1-year-olds (%)\n",
        "* **HIV/AIDS**: Deaths per 1 000 live births HIV/AIDS (0-4 years)\n",
        "* **GDP**: Gross Domestic Product per capita (in USD)\n",
        "* **Population**: Population of the country\n",
        "* **thinness 1-19 years**: Proportion of thinness among children and adolescents for Age 10 to 19 (in %)\n",
        "* **thinness 5-9 years**: Proportion of thinness among children for Age 5 to 9 (in %)\n",
        "* **Income composition of resources**: Human Development Index in terms of income composition of resources (index ranging from 0 to 1)\n",
        "* **Schooling**: Number of years of schooling"
      ]
    },
    {
      "cell_type": "markdown",
      "id": "2a292c91",
      "metadata": {
        "id": "2a292c91"
      },
      "source": [
        "## 1. Understand and Clean the Dataset\n",
        "### 1.1 Initial exploration\n",
        "\n",
        ">1.1.1 Show the first 5 or 10 rows to get an idea of the data. "
      ]
    },
    {
      "cell_type": "code",
      "execution_count": 6,
      "id": "57577de4",
      "metadata": {
        "id": "57577de4",
        "colab": {
          "base_uri": "https://localhost:8080/",
          "height": 352
        },
        "outputId": "9a3e17f5-bf17-420d-a49a-a600c6b6bf07"
      },
      "outputs": [
        {
          "output_type": "execute_result",
          "data": {
            "text/plain": [
              "       Country  Year      Status  Life expectancy   Adult Mortality  \\\n",
              "0  Afghanistan  2015  Developing              65.0            263.0   \n",
              "1  Afghanistan  2014  Developing              59.9            271.0   \n",
              "2  Afghanistan  2013  Developing              59.9            268.0   \n",
              "3  Afghanistan  2012  Developing              59.5            272.0   \n",
              "4  Afghanistan  2011  Developing              59.2            275.0   \n",
              "\n",
              "   infant deaths  Alcohol  percentage expenditure  Hepatitis B  Measles   ...  \\\n",
              "0             62     0.01               71.279624         65.0      1154  ...   \n",
              "1             64     0.01               73.523582         62.0       492  ...   \n",
              "2             66     0.01               73.219243         64.0       430  ...   \n",
              "3             69     0.01               78.184215         67.0      2787  ...   \n",
              "4             71     0.01                7.097109         68.0      3013  ...   \n",
              "\n",
              "   Polio  Total expenditure  Diphtheria    HIV/AIDS         GDP  Population  \\\n",
              "0    6.0               8.16         65.0        0.1  584.259210  33736494.0   \n",
              "1   58.0               8.18         62.0        0.1  612.696514    327582.0   \n",
              "2   62.0               8.13         64.0        0.1  631.744976  31731688.0   \n",
              "3   67.0               8.52         67.0        0.1  669.959000   3696958.0   \n",
              "4   68.0               7.87         68.0        0.1   63.537231   2978599.0   \n",
              "\n",
              "    thinness  1-19 years   thinness 5-9 years  \\\n",
              "0                   17.2                 17.3   \n",
              "1                   17.5                 17.5   \n",
              "2                   17.7                 17.7   \n",
              "3                   17.9                 18.0   \n",
              "4                   18.2                 18.2   \n",
              "\n",
              "   Income composition of resources  Schooling  \n",
              "0                            0.479       10.1  \n",
              "1                            0.476       10.0  \n",
              "2                            0.470        9.9  \n",
              "3                            0.463        9.8  \n",
              "4                            0.454        9.5  \n",
              "\n",
              "[5 rows x 22 columns]"
            ],
            "text/html": [
              "\n",
              "  <div id=\"df-9d2287f2-f171-46a3-8a0d-0b0ffffe4e23\">\n",
              "    <div class=\"colab-df-container\">\n",
              "      <div>\n",
              "<style scoped>\n",
              "    .dataframe tbody tr th:only-of-type {\n",
              "        vertical-align: middle;\n",
              "    }\n",
              "\n",
              "    .dataframe tbody tr th {\n",
              "        vertical-align: top;\n",
              "    }\n",
              "\n",
              "    .dataframe thead th {\n",
              "        text-align: right;\n",
              "    }\n",
              "</style>\n",
              "<table border=\"1\" class=\"dataframe\">\n",
              "  <thead>\n",
              "    <tr style=\"text-align: right;\">\n",
              "      <th></th>\n",
              "      <th>Country</th>\n",
              "      <th>Year</th>\n",
              "      <th>Status</th>\n",
              "      <th>Life expectancy</th>\n",
              "      <th>Adult Mortality</th>\n",
              "      <th>infant deaths</th>\n",
              "      <th>Alcohol</th>\n",
              "      <th>percentage expenditure</th>\n",
              "      <th>Hepatitis B</th>\n",
              "      <th>Measles</th>\n",
              "      <th>...</th>\n",
              "      <th>Polio</th>\n",
              "      <th>Total expenditure</th>\n",
              "      <th>Diphtheria</th>\n",
              "      <th>HIV/AIDS</th>\n",
              "      <th>GDP</th>\n",
              "      <th>Population</th>\n",
              "      <th>thinness  1-19 years</th>\n",
              "      <th>thinness 5-9 years</th>\n",
              "      <th>Income composition of resources</th>\n",
              "      <th>Schooling</th>\n",
              "    </tr>\n",
              "  </thead>\n",
              "  <tbody>\n",
              "    <tr>\n",
              "      <th>0</th>\n",
              "      <td>Afghanistan</td>\n",
              "      <td>2015</td>\n",
              "      <td>Developing</td>\n",
              "      <td>65.0</td>\n",
              "      <td>263.0</td>\n",
              "      <td>62</td>\n",
              "      <td>0.01</td>\n",
              "      <td>71.279624</td>\n",
              "      <td>65.0</td>\n",
              "      <td>1154</td>\n",
              "      <td>...</td>\n",
              "      <td>6.0</td>\n",
              "      <td>8.16</td>\n",
              "      <td>65.0</td>\n",
              "      <td>0.1</td>\n",
              "      <td>584.259210</td>\n",
              "      <td>33736494.0</td>\n",
              "      <td>17.2</td>\n",
              "      <td>17.3</td>\n",
              "      <td>0.479</td>\n",
              "      <td>10.1</td>\n",
              "    </tr>\n",
              "    <tr>\n",
              "      <th>1</th>\n",
              "      <td>Afghanistan</td>\n",
              "      <td>2014</td>\n",
              "      <td>Developing</td>\n",
              "      <td>59.9</td>\n",
              "      <td>271.0</td>\n",
              "      <td>64</td>\n",
              "      <td>0.01</td>\n",
              "      <td>73.523582</td>\n",
              "      <td>62.0</td>\n",
              "      <td>492</td>\n",
              "      <td>...</td>\n",
              "      <td>58.0</td>\n",
              "      <td>8.18</td>\n",
              "      <td>62.0</td>\n",
              "      <td>0.1</td>\n",
              "      <td>612.696514</td>\n",
              "      <td>327582.0</td>\n",
              "      <td>17.5</td>\n",
              "      <td>17.5</td>\n",
              "      <td>0.476</td>\n",
              "      <td>10.0</td>\n",
              "    </tr>\n",
              "    <tr>\n",
              "      <th>2</th>\n",
              "      <td>Afghanistan</td>\n",
              "      <td>2013</td>\n",
              "      <td>Developing</td>\n",
              "      <td>59.9</td>\n",
              "      <td>268.0</td>\n",
              "      <td>66</td>\n",
              "      <td>0.01</td>\n",
              "      <td>73.219243</td>\n",
              "      <td>64.0</td>\n",
              "      <td>430</td>\n",
              "      <td>...</td>\n",
              "      <td>62.0</td>\n",
              "      <td>8.13</td>\n",
              "      <td>64.0</td>\n",
              "      <td>0.1</td>\n",
              "      <td>631.744976</td>\n",
              "      <td>31731688.0</td>\n",
              "      <td>17.7</td>\n",
              "      <td>17.7</td>\n",
              "      <td>0.470</td>\n",
              "      <td>9.9</td>\n",
              "    </tr>\n",
              "    <tr>\n",
              "      <th>3</th>\n",
              "      <td>Afghanistan</td>\n",
              "      <td>2012</td>\n",
              "      <td>Developing</td>\n",
              "      <td>59.5</td>\n",
              "      <td>272.0</td>\n",
              "      <td>69</td>\n",
              "      <td>0.01</td>\n",
              "      <td>78.184215</td>\n",
              "      <td>67.0</td>\n",
              "      <td>2787</td>\n",
              "      <td>...</td>\n",
              "      <td>67.0</td>\n",
              "      <td>8.52</td>\n",
              "      <td>67.0</td>\n",
              "      <td>0.1</td>\n",
              "      <td>669.959000</td>\n",
              "      <td>3696958.0</td>\n",
              "      <td>17.9</td>\n",
              "      <td>18.0</td>\n",
              "      <td>0.463</td>\n",
              "      <td>9.8</td>\n",
              "    </tr>\n",
              "    <tr>\n",
              "      <th>4</th>\n",
              "      <td>Afghanistan</td>\n",
              "      <td>2011</td>\n",
              "      <td>Developing</td>\n",
              "      <td>59.2</td>\n",
              "      <td>275.0</td>\n",
              "      <td>71</td>\n",
              "      <td>0.01</td>\n",
              "      <td>7.097109</td>\n",
              "      <td>68.0</td>\n",
              "      <td>3013</td>\n",
              "      <td>...</td>\n",
              "      <td>68.0</td>\n",
              "      <td>7.87</td>\n",
              "      <td>68.0</td>\n",
              "      <td>0.1</td>\n",
              "      <td>63.537231</td>\n",
              "      <td>2978599.0</td>\n",
              "      <td>18.2</td>\n",
              "      <td>18.2</td>\n",
              "      <td>0.454</td>\n",
              "      <td>9.5</td>\n",
              "    </tr>\n",
              "  </tbody>\n",
              "</table>\n",
              "<p>5 rows × 22 columns</p>\n",
              "</div>\n",
              "      <button class=\"colab-df-convert\" onclick=\"convertToInteractive('df-9d2287f2-f171-46a3-8a0d-0b0ffffe4e23')\"\n",
              "              title=\"Convert this dataframe to an interactive table.\"\n",
              "              style=\"display:none;\">\n",
              "        \n",
              "  <svg xmlns=\"http://www.w3.org/2000/svg\" height=\"24px\"viewBox=\"0 0 24 24\"\n",
              "       width=\"24px\">\n",
              "    <path d=\"M0 0h24v24H0V0z\" fill=\"none\"/>\n",
              "    <path d=\"M18.56 5.44l.94 2.06.94-2.06 2.06-.94-2.06-.94-.94-2.06-.94 2.06-2.06.94zm-11 1L8.5 8.5l.94-2.06 2.06-.94-2.06-.94L8.5 2.5l-.94 2.06-2.06.94zm10 10l.94 2.06.94-2.06 2.06-.94-2.06-.94-.94-2.06-.94 2.06-2.06.94z\"/><path d=\"M17.41 7.96l-1.37-1.37c-.4-.4-.92-.59-1.43-.59-.52 0-1.04.2-1.43.59L10.3 9.45l-7.72 7.72c-.78.78-.78 2.05 0 2.83L4 21.41c.39.39.9.59 1.41.59.51 0 1.02-.2 1.41-.59l7.78-7.78 2.81-2.81c.8-.78.8-2.07 0-2.86zM5.41 20L4 18.59l7.72-7.72 1.47 1.35L5.41 20z\"/>\n",
              "  </svg>\n",
              "      </button>\n",
              "      \n",
              "  <style>\n",
              "    .colab-df-container {\n",
              "      display:flex;\n",
              "      flex-wrap:wrap;\n",
              "      gap: 12px;\n",
              "    }\n",
              "\n",
              "    .colab-df-convert {\n",
              "      background-color: #E8F0FE;\n",
              "      border: none;\n",
              "      border-radius: 50%;\n",
              "      cursor: pointer;\n",
              "      display: none;\n",
              "      fill: #1967D2;\n",
              "      height: 32px;\n",
              "      padding: 0 0 0 0;\n",
              "      width: 32px;\n",
              "    }\n",
              "\n",
              "    .colab-df-convert:hover {\n",
              "      background-color: #E2EBFA;\n",
              "      box-shadow: 0px 1px 2px rgba(60, 64, 67, 0.3), 0px 1px 3px 1px rgba(60, 64, 67, 0.15);\n",
              "      fill: #174EA6;\n",
              "    }\n",
              "\n",
              "    [theme=dark] .colab-df-convert {\n",
              "      background-color: #3B4455;\n",
              "      fill: #D2E3FC;\n",
              "    }\n",
              "\n",
              "    [theme=dark] .colab-df-convert:hover {\n",
              "      background-color: #434B5C;\n",
              "      box-shadow: 0px 1px 3px 1px rgba(0, 0, 0, 0.15);\n",
              "      filter: drop-shadow(0px 1px 2px rgba(0, 0, 0, 0.3));\n",
              "      fill: #FFFFFF;\n",
              "    }\n",
              "  </style>\n",
              "\n",
              "      <script>\n",
              "        const buttonEl =\n",
              "          document.querySelector('#df-9d2287f2-f171-46a3-8a0d-0b0ffffe4e23 button.colab-df-convert');\n",
              "        buttonEl.style.display =\n",
              "          google.colab.kernel.accessAllowed ? 'block' : 'none';\n",
              "\n",
              "        async function convertToInteractive(key) {\n",
              "          const element = document.querySelector('#df-9d2287f2-f171-46a3-8a0d-0b0ffffe4e23');\n",
              "          const dataTable =\n",
              "            await google.colab.kernel.invokeFunction('convertToInteractive',\n",
              "                                                     [key], {});\n",
              "          if (!dataTable) return;\n",
              "\n",
              "          const docLinkHtml = 'Like what you see? Visit the ' +\n",
              "            '<a target=\"_blank\" href=https://colab.research.google.com/notebooks/data_table.ipynb>data table notebook</a>'\n",
              "            + ' to learn more about interactive tables.';\n",
              "          element.innerHTML = '';\n",
              "          dataTable['output_type'] = 'display_data';\n",
              "          await google.colab.output.renderOutput(dataTable, element);\n",
              "          const docLink = document.createElement('div');\n",
              "          docLink.innerHTML = docLinkHtml;\n",
              "          element.appendChild(docLink);\n",
              "        }\n",
              "      </script>\n",
              "    </div>\n",
              "  </div>\n",
              "  "
            ]
          },
          "metadata": {},
          "execution_count": 6
        }
      ],
      "source": [
        "df.head(5)"
      ]
    },
    {
      "cell_type": "markdown",
      "id": "1a01a5e0",
      "metadata": {
        "id": "1a01a5e0"
      },
      "source": [
        ">1.1.2 How many observations (rows) and columns are in the dataset?"
      ]
    },
    {
      "cell_type": "code",
      "execution_count": 14,
      "id": "8e8356c1",
      "metadata": {
        "id": "8e8356c1",
        "colab": {
          "base_uri": "https://localhost:8080/"
        },
        "outputId": "40f4d407-d74c-46d8-de4c-650d792a9899"
      },
      "outputs": [
        {
          "output_type": "execute_result",
          "data": {
            "text/plain": [
              "2938"
            ]
          },
          "metadata": {},
          "execution_count": 14
        }
      ],
      "source": [
        "# this is the number of observations (rows), the data numerosity\n",
        "df.shape[0]"
      ]
    },
    {
      "cell_type": "code",
      "source": [
        "# this is the number of columns or attributes, the data dimensionality\n",
        "df.shape[1]"
      ],
      "metadata": {
        "colab": {
          "base_uri": "https://localhost:8080/"
        },
        "id": "uICwDuWQA3PA",
        "outputId": "4cae0559-1f80-4e2f-e59d-60f14f39b098"
      },
      "id": "uICwDuWQA3PA",
      "execution_count": 13,
      "outputs": [
        {
          "output_type": "execute_result",
          "data": {
            "text/plain": [
              "22"
            ]
          },
          "metadata": {},
          "execution_count": 13
        }
      ]
    },
    {
      "cell_type": "markdown",
      "id": "9aa68cca",
      "metadata": {
        "id": "9aa68cca"
      },
      "source": [
        "> 1.1.3 For which variable(s), if any, are there missing/null values?"
      ]
    },
    {
      "cell_type": "code",
      "execution_count": null,
      "id": "45868696",
      "metadata": {
        "id": "45868696"
      },
      "outputs": [],
      "source": [
        "# YOUR CODE HERE"
      ]
    },
    {
      "cell_type": "markdown",
      "id": "ffd7b5ff",
      "metadata": {
        "id": "ffd7b5ff"
      },
      "source": [
        ">1.1.4 Apply two small modifications to the names of the columns, that will help you avoid errors. \n",
        "* Remove spaces from beginning and end of the names of the features, if they have some\n",
        "* Put all the feature names start with an uppercase letter or all with a lowercase letter"
      ]
    },
    {
      "cell_type": "code",
      "execution_count": null,
      "id": "b7476d0a",
      "metadata": {
        "id": "b7476d0a"
      },
      "outputs": [],
      "source": [
        "# YOUR CODE HERE"
      ]
    },
    {
      "cell_type": "markdown",
      "id": "9c9953be",
      "metadata": {
        "id": "9c9953be"
      },
      "source": [
        ">1.1.5 Drop the following columns (we will not need them):\n",
        "* Adult Mortality\n",
        "* Alcohol\n",
        "* Under-five deaths \n",
        "* Total expenditure\n",
        "* Diphtheria\n",
        "* Thinness  1-19 years\n",
        "* Thinness 5-9 years\n",
        "* Income composition of resources"
      ]
    },
    {
      "cell_type": "code",
      "execution_count": null,
      "id": "93e2611a",
      "metadata": {
        "id": "93e2611a"
      },
      "outputs": [],
      "source": [
        "# YOUR CODE HERE"
      ]
    },
    {
      "cell_type": "markdown",
      "id": "f330e9e4",
      "metadata": {
        "id": "f330e9e4"
      },
      "source": [
        ">1.1.6 Which state had the highest **life expectancy** in a single year? ONLY for this question and the following one (1.1.7), you will need to drop the rows that have NaN as life expectancy."
      ]
    },
    {
      "cell_type": "code",
      "execution_count": null,
      "id": "118edea6",
      "metadata": {
        "id": "118edea6"
      },
      "outputs": [],
      "source": [
        "# YOUR CODE HERE"
      ]
    },
    {
      "cell_type": "markdown",
      "id": "97fa7714",
      "metadata": {
        "id": "97fa7714"
      },
      "source": [
        ">1.1.7 Which state had the highest **life expectancy** on average over all the years covered by the dataset?"
      ]
    },
    {
      "cell_type": "code",
      "execution_count": null,
      "id": "c45b40d5",
      "metadata": {
        "id": "c45b40d5"
      },
      "outputs": [],
      "source": [
        "# YOUR CODE HERE\n"
      ]
    },
    {
      "cell_type": "markdown",
      "id": "ed658bc8",
      "metadata": {
        "id": "ed658bc8"
      },
      "source": [
        ">1.1.8 What percentage of developing countries have GDP per capita (averaged over the period) higher than 1000? Drop countries with missing GDP for this question. Round up to 3 decimal points. ONLY for this question, you will need to drop the rows that have NaN as GDP.\n"
      ]
    },
    {
      "cell_type": "code",
      "execution_count": null,
      "id": "9f091e90",
      "metadata": {
        "id": "9f091e90"
      },
      "outputs": [],
      "source": [
        "# YOUR CODE HERE\n"
      ]
    },
    {
      "cell_type": "markdown",
      "id": "952cf424",
      "metadata": {
        "id": "952cf424"
      },
      "source": [
        "### 1.2 Data types\n",
        "\n",
        ">1.2.1. List the different features and their data type. ¶\n"
      ]
    },
    {
      "cell_type": "code",
      "execution_count": null,
      "id": "1f22cde4",
      "metadata": {
        "id": "1f22cde4"
      },
      "outputs": [],
      "source": [
        "# YOUR CODE HERE\n"
      ]
    },
    {
      "cell_type": "markdown",
      "id": "6ce572ee",
      "metadata": {
        "id": "6ce572ee"
      },
      "source": [
        ">1.2.2. Are there any duplicated entries?"
      ]
    },
    {
      "cell_type": "code",
      "execution_count": null,
      "id": "5c5b226c",
      "metadata": {
        "id": "5c5b226c"
      },
      "outputs": [],
      "source": [
        "# YOUR CODE HERE\n"
      ]
    },
    {
      "cell_type": "markdown",
      "id": "2b22dd60",
      "metadata": {
        "id": "2b22dd60"
      },
      "source": [
        ">1.2.3. Change the data type for the following columns: Country (from object to string), Status (from object to category)\n"
      ]
    },
    {
      "cell_type": "code",
      "execution_count": null,
      "id": "7e576111",
      "metadata": {
        "id": "7e576111"
      },
      "outputs": [],
      "source": [
        "# YOUR CODE HERE"
      ]
    },
    {
      "cell_type": "markdown",
      "id": "0d9dfea9",
      "metadata": {
        "id": "0d9dfea9"
      },
      "source": [
        ">1.2.4. For which period have these data samples been collected? (i.e, the oldest and the most recent entries in the dataset)"
      ]
    },
    {
      "cell_type": "code",
      "execution_count": null,
      "id": "5226461f",
      "metadata": {
        "id": "5226461f"
      },
      "outputs": [],
      "source": [
        "# YOUR CODE HERE\n"
      ]
    },
    {
      "cell_type": "markdown",
      "id": "2077bdc4",
      "metadata": {
        "id": "2077bdc4"
      },
      "source": [
        "\n",
        "## 2. Exploratory Data Analysis and Visualization"
      ]
    },
    {
      "cell_type": "markdown",
      "id": "c2401911",
      "metadata": {
        "id": "c2401911"
      },
      "source": [
        ">2.1 Which are the top 5 countries that had the highest **population growth** over the period included in the dataset?\n",
        "Consider population growth as the difference between the population in the last year and the first year of measurement\n",
        "\n",
        ">Hint: for each country, the data follows a certain order..."
      ]
    },
    {
      "cell_type": "code",
      "execution_count": null,
      "id": "ec50ac9b",
      "metadata": {
        "id": "ec50ac9b"
      },
      "outputs": [],
      "source": [
        "# YOUR CODE HERE"
      ]
    },
    {
      "cell_type": "markdown",
      "id": "871125ee",
      "metadata": {
        "id": "871125ee"
      },
      "source": [
        ">2.2 How many unique countries were included in the dataset?"
      ]
    },
    {
      "cell_type": "code",
      "execution_count": null,
      "id": "d616dc86",
      "metadata": {
        "id": "d616dc86"
      },
      "outputs": [],
      "source": [
        "# YOUR CODE HERE\n"
      ]
    },
    {
      "cell_type": "markdown",
      "id": "5e5d7b18",
      "metadata": {
        "id": "5e5d7b18"
      },
      "source": [
        ">...Plot the top ten countries by average GDP on a horizontal bar chart."
      ]
    },
    {
      "cell_type": "code",
      "execution_count": null,
      "id": "ed4a6318",
      "metadata": {
        "id": "ed4a6318"
      },
      "outputs": [],
      "source": [
        "# YOUR CODE HERE"
      ]
    },
    {
      "cell_type": "markdown",
      "id": "c64c6a56",
      "metadata": {
        "id": "c64c6a56"
      },
      "source": [
        ">2.3. Sometimes it is useful to group datapoints that share certain common traits. That's what we'll do in this composite question. All the modifications to the dataframe suggested here must be ONLY for the questions 2.3. So we suggest to generate a new dataframe for this question, to avoid affecting the main one.\n",
        "\n",
        "> 2.3.1 First, aggregate the data by country taking the mean of every numerical feature. At this point you should have 1 row per Country. Keep only the following features: `HIV/AIDS`,`Polio`,`Measles`,`Infant deaths`,`Hepatitis B`. (Remember, you might need the other features after question 2.3, so do not delete them from the main df)"
      ]
    },
    {
      "cell_type": "code",
      "execution_count": null,
      "id": "d3357125",
      "metadata": {
        "id": "d3357125"
      },
      "outputs": [],
      "source": [
        "# YOUR CODE HERE"
      ]
    },
    {
      "cell_type": "markdown",
      "id": "a0aedb3b",
      "metadata": {
        "id": "a0aedb3b"
      },
      "source": [
        "> 2.3.2 Then, keep only the following columns, and AFTERWARDS drop all the rows that have NaN values : `HIV/AIDS`,`Polio`,`Measles`,`Infant deaths`,`Hepatitis B`. (Remember, you might need them after question 2.3, so do not delete them from the main df)"
      ]
    },
    {
      "cell_type": "code",
      "execution_count": null,
      "id": "bedee774",
      "metadata": {
        "id": "bedee774"
      },
      "outputs": [],
      "source": [
        "# YOUR CODE HERE"
      ]
    },
    {
      "cell_type": "markdown",
      "id": "4c178f5b",
      "metadata": {
        "id": "4c178f5b"
      },
      "source": [
        "> 2.3.3 Then, build a new column in the dataset with a new composite index, the NHI (New Health Index). It integrates the situation of the country with regards to the HIV/AIDS, Polio, Measles, Infant deaths, Hepatitis B. The higher, the worse the situation. It needs to follow the following formula: $$BHI = 10*HIV + 2*Polio + \\sqrt{Measles} + (Infant deaths)^{2} + Hepatitis B$$"
      ]
    },
    {
      "cell_type": "code",
      "execution_count": null,
      "id": "d49d7e81",
      "metadata": {
        "id": "d49d7e81"
      },
      "outputs": [],
      "source": [
        "# YOUR CODE HERE"
      ]
    },
    {
      "cell_type": "markdown",
      "id": "03876467",
      "metadata": {
        "id": "03876467"
      },
      "source": [
        "> 2.3.4 After you added the column with the index, create another column, categorical, called \"Health risk\", which can have 4 different values:\n",
        "* Very high risk\n",
        "* High risk\n",
        "* Medium risk\n",
        "* Low risk\n",
        "> You should assign the value to each row depening on the quartile the datapoint belongs to, following the NHI. If it is in the lowest 25%, it needs to be low risk, if it's between 25 and 50%, it will be Medium, between 50 and 75% High risk, between 75% and 100% Very high risk.\n",
        "Hint: you may want to check the `qcut` function of Pandas.\n",
        "\n",
        "> Finally, count the values of each class you created. How many datapoints are \"High Risk\"?"
      ]
    },
    {
      "cell_type": "code",
      "execution_count": null,
      "id": "662ec22b",
      "metadata": {
        "id": "662ec22b"
      },
      "outputs": [],
      "source": [
        "# YOUR CODE HERE "
      ]
    },
    {
      "cell_type": "markdown",
      "id": "34bb4080",
      "metadata": {
        "id": "34bb4080"
      },
      "source": [
        ">2.4 Compare GDP in 2002 and in 2012. Were there any countries that had a lower GDP with respect to 2002? If so, how many?"
      ]
    },
    {
      "cell_type": "code",
      "execution_count": null,
      "id": "15a89547",
      "metadata": {
        "id": "15a89547"
      },
      "outputs": [],
      "source": [
        "# YOUR CODE HERE"
      ]
    },
    {
      "cell_type": "markdown",
      "id": "daab9fe9",
      "metadata": {
        "id": "daab9fe9"
      },
      "source": [
        ">2.5 Generate a table with the average life expectancy by year for three different groups: \n",
        ">* for all developing countries\n",
        ">* developed countries\n",
        ">* the overall aggregated values.\n",
        "\n",
        ">Then, plot the three trends in a line plot with the aggregated values for Life expectancy on y axis and the years on the x axis.\n"
      ]
    },
    {
      "cell_type": "code",
      "execution_count": null,
      "id": "78e924e2",
      "metadata": {
        "id": "78e924e2",
        "scrolled": true
      },
      "outputs": [],
      "source": [
        "# YOUR CODE HERE\n",
        "# Generate the table\n",
        "\n",
        "\n",
        "# Plot"
      ]
    },
    {
      "cell_type": "markdown",
      "id": "778bfb22",
      "metadata": {
        "id": "778bfb22"
      },
      "source": [
        ">2.6 Draw boxplots to compare the BMI (body mass index) between developed and developing countries. Before doing so, aggregate by country and average over time the BMI for each country. Remember to remove Nans. Do developed or developing have a higher median? Which has more outliers?"
      ]
    },
    {
      "cell_type": "code",
      "execution_count": null,
      "id": "6126f14d",
      "metadata": {
        "id": "6126f14d"
      },
      "outputs": [],
      "source": [
        "# YOUR CODE HERE"
      ]
    },
    {
      "cell_type": "markdown",
      "id": "5f0253ef",
      "metadata": {
        "id": "5f0253ef"
      },
      "source": [
        ">2.7 Using `folium`, plot on an interactive map the life expectancy of the countries represented in the dataset. You need to have a scale of colors, the more intense the color, the higher the life expectancy of the country.\n",
        ">\n",
        "> Only include 2015 data.\n",
        ">\n",
        ">A separate geojson file with latitudes and longitudes of the countries needs to be downloaded from [here](https://datahub.io/core/geo-countries). You should use the `folium.Choropleth` method and give the geojson file as `geo_data` parameter. The `key_on` parameter should be set to `\"feature.properties.ADMIN\"` because of the structure of the json file. Make sure to drop any missing values before plotting your map.\n",
        "\n",
        "\n",
        "\n",
        "\n"
      ]
    },
    {
      "cell_type": "code",
      "execution_count": null,
      "id": "02779a11",
      "metadata": {
        "id": "02779a11"
      },
      "outputs": [],
      "source": [
        "import folium\n",
        "geo = \"countries.geojson\"\n",
        "# YOUR CODE HERE"
      ]
    },
    {
      "cell_type": "markdown",
      "id": "f2c37c70",
      "metadata": {
        "id": "f2c37c70"
      },
      "source": [
        "## Before regression: One Hot Encoding"
      ]
    },
    {
      "cell_type": "markdown",
      "id": "697d3601",
      "metadata": {
        "id": "697d3601"
      },
      "source": [
        "Before moving on to the regression, we need to transform the categorical variables as dummy variables for the regression. In order to do so, we use a [One Hot Encoder](https://scikit-learn.org/stable/modules/generated/sklearn.preprocessing.OneHotEncoder.html). Pay attention: we need to consider \"year\" as a categorical variable as well, as it is not a continuous one. So the two features that you need to encode are: Year and Status. Add the features to the dataset. \n",
        "Reminder: when encoding n categories, we need to add n-1 features to avoid multicollinearity - the \"Dummy variable trap\"."
      ]
    },
    {
      "cell_type": "markdown",
      "id": "08213906",
      "metadata": {
        "id": "08213906"
      },
      "source": [
        ">2.8 How many features does the dataframe have now, after adding n-1 columns for year and m-1 for status, where n and m are respectively the number of categories possible?"
      ]
    },
    {
      "cell_type": "code",
      "execution_count": null,
      "id": "ea84e615",
      "metadata": {
        "id": "ea84e615"
      },
      "outputs": [],
      "source": [
        "from sklearn.preprocessing import OneHotEncoder"
      ]
    },
    {
      "cell_type": "code",
      "execution_count": null,
      "id": "66faa2ac",
      "metadata": {
        "id": "66faa2ac"
      },
      "outputs": [],
      "source": [
        "# YOUR CODE HERE"
      ]
    },
    {
      "cell_type": "markdown",
      "id": "cddc6205",
      "metadata": {
        "id": "cddc6205"
      },
      "source": [
        "## 3. Regression Analysis\n",
        "### 3.1 Intro to regression"
      ]
    },
    {
      "cell_type": "markdown",
      "id": "733c071c",
      "metadata": {
        "id": "733c071c"
      },
      "source": [
        "For this section we will try to build a model to predict the life expectancy, given other data regarding a country. Here we are providing the cleaned dataframe for you. The regression dataset is the same you've been working on until now with some additional cleaning. The features available are the following:\n",
        "* Alcohol\n",
        "* Schooling\n",
        "* GDP\n",
        "* Life expectancy\n",
        "* Percentage expenditure\n",
        "* One dummy feature for each year except for 1 (2000,2001,2002,...)\n",
        "* One dummy feature \"Developing\" indicating whether the country is a developing one or not"
      ]
    },
    {
      "cell_type": "markdown",
      "id": "58296995",
      "metadata": {
        "id": "58296995"
      },
      "source": [
        ">Load the data."
      ]
    },
    {
      "cell_type": "code",
      "execution_count": null,
      "id": "ee725745",
      "metadata": {
        "id": "ee725745"
      },
      "outputs": [],
      "source": [
        "#Upload the data\n",
        "new_data = pd.read_csv(\"Regression Analysis Data\")"
      ]
    },
    {
      "cell_type": "markdown",
      "id": "23b94d68",
      "metadata": {
        "id": "23b94d68"
      },
      "source": [
        ">3.1.1. Generate descriptive statistics"
      ]
    },
    {
      "cell_type": "code",
      "execution_count": null,
      "id": "3dc64839",
      "metadata": {
        "id": "3dc64839"
      },
      "outputs": [],
      "source": [
        "# YOUR CODE HERE\n"
      ]
    },
    {
      "cell_type": "markdown",
      "id": "cffa904b",
      "metadata": {
        "id": "cffa904b"
      },
      "source": [
        ">3.1.2. Plot the distribution of life expectancy in 2000 and in 2012. Then create a new column equal to the natural logarithm of life expectancy and plot its histogram as well, just for year 2000."
      ]
    },
    {
      "cell_type": "code",
      "execution_count": null,
      "id": "cd095c90",
      "metadata": {
        "id": "cd095c90"
      },
      "outputs": [],
      "source": [
        "# YOUR CODE HERE\n",
        "#Generate the first 2 histograms: 2000 and 2012\n",
        "\n",
        "\n"
      ]
    },
    {
      "cell_type": "code",
      "execution_count": null,
      "id": "b0c4359b",
      "metadata": {
        "id": "b0c4359b"
      },
      "outputs": [],
      "source": [
        "# YOUR CODE HERE\n",
        "#Add the new column with the log\n",
        "\n",
        "#Generate the second histogram: 2000, but with the log\n",
        "\n"
      ]
    },
    {
      "cell_type": "markdown",
      "id": "de453534",
      "metadata": {
        "id": "de453534"
      },
      "source": [
        ">3.1.3. Create 3 pairplots with the log of life expectancy on the horizontal axis and on the vertical axis GDP, population, schooling. Which seems to be the best predictor?\n"
      ]
    },
    {
      "cell_type": "code",
      "execution_count": null,
      "id": "791c3f2b",
      "metadata": {
        "id": "791c3f2b"
      },
      "outputs": [],
      "source": [
        "# YOUR CODE HERE"
      ]
    },
    {
      "cell_type": "markdown",
      "id": "26e59b86",
      "metadata": {
        "id": "26e59b86"
      },
      "source": [
        "## 3.2 Simple Linear Regression"
      ]
    },
    {
      "cell_type": "markdown",
      "id": "beb92990",
      "metadata": {
        "id": "beb92990"
      },
      "source": [
        ">3.2.1 Drop the feature \"Year\", since we have hot-encoded it. Regress, using the library `sklearn`, log of life expectancy on Alcohol, gdp, population, percentage expenditure, schooling, Developing, and all the dummy variables for the years.\n",
        "> \n",
        ">Select the dependent (y) and the independent variables (X)."
      ]
    },
    {
      "cell_type": "code",
      "execution_count": null,
      "id": "a66ac250",
      "metadata": {
        "id": "a66ac250"
      },
      "outputs": [],
      "source": [
        "# YOUR CODE HERE"
      ]
    },
    {
      "cell_type": "markdown",
      "id": "f0fcc79d",
      "metadata": {
        "id": "f0fcc79d"
      },
      "source": [
        ">3.2.2 Split your dataset into a training set (80%) and a test set (20%). Use sklearn.model_selection.train_test_split() and set the **random_state to 42.**"
      ]
    },
    {
      "cell_type": "code",
      "execution_count": null,
      "id": "a9ab982a",
      "metadata": {
        "id": "a9ab982a"
      },
      "outputs": [],
      "source": [
        "# YOUR CODE HERE\n"
      ]
    },
    {
      "cell_type": "markdown",
      "id": "32987cf8",
      "metadata": {
        "id": "32987cf8"
      },
      "source": [
        ">3.2.3 Train a linear regression model on the training data. What is the R^2 score for the test data?"
      ]
    },
    {
      "cell_type": "code",
      "execution_count": null,
      "id": "ba053d77",
      "metadata": {
        "id": "ba053d77"
      },
      "outputs": [],
      "source": [
        "# YOUR CODE HERE"
      ]
    },
    {
      "cell_type": "markdown",
      "id": "33aae726",
      "metadata": {
        "id": "33aae726"
      },
      "source": [
        ">3.2.4. Predict what would be the life expectancy of a (very small) country with an Alcohol consumption of 5 liters, GDP per capita of 800 dollars, a population of 300 individuals, 62 as percentage expenditure, 8 as schooling in year 2000. It is not a developing country."
      ]
    },
    {
      "cell_type": "code",
      "execution_count": null,
      "id": "9e5fda51",
      "metadata": {
        "id": "9e5fda51"
      },
      "outputs": [],
      "source": [
        "# YOUR CODE HERE"
      ]
    },
    {
      "cell_type": "markdown",
      "id": "0ed88806",
      "metadata": {
        "id": "0ed88806"
      },
      "source": [
        "## 3.3 Linear Regression with Standardization"
      ]
    },
    {
      "cell_type": "markdown",
      "id": "0ed3ea98",
      "metadata": {
        "id": "0ed3ea98"
      },
      "source": [
        "> 3.3.1. Apply a standard scaler to the following columns: Alcohol, gdp, population, percentage expenditure, schooling\n",
        "> \n",
        "> Hint: use the scaler on the already split data. Fit-transform the scaler on X_train and apply transform on X_test."
      ]
    },
    {
      "cell_type": "code",
      "execution_count": null,
      "id": "cac99fa4",
      "metadata": {
        "id": "cac99fa4"
      },
      "outputs": [],
      "source": [
        "# YOUR CODE HERE"
      ]
    },
    {
      "cell_type": "markdown",
      "id": "eb211204",
      "metadata": {
        "id": "eb211204"
      },
      "source": [
        "> 3.3.2 Train a linear regression model with the standardised data. What is the R^2 score for the test data?"
      ]
    },
    {
      "cell_type": "code",
      "execution_count": null,
      "id": "bef7cbfd",
      "metadata": {
        "id": "bef7cbfd"
      },
      "outputs": [],
      "source": [
        "# YOUR CODE HERE\n"
      ]
    },
    {
      "cell_type": "markdown",
      "id": "7ae1b9d5",
      "metadata": {
        "id": "7ae1b9d5"
      },
      "source": [
        "> 3.3.3 With the new model, predict, as before, what would be the life expectancy of a (very small) country with an Alcohol consumption of 5 liters, GDP per capita of 800 dollars, a population of 300 individuals, 62 as percentage expenditure, 8 as schooling in year 2000. It is not a developing country."
      ]
    },
    {
      "cell_type": "code",
      "execution_count": null,
      "id": "71804228",
      "metadata": {
        "id": "71804228"
      },
      "outputs": [],
      "source": [
        "# YOUR CODE HERE"
      ]
    },
    {
      "cell_type": "markdown",
      "id": "d921b338",
      "metadata": {
        "id": "d921b338"
      },
      "source": [
        ">3.3.4 Looking at the coefficients from the linear regression with standardization, identify which variable is the one with the strongest impact on the dependent variable."
      ]
    },
    {
      "cell_type": "code",
      "execution_count": null,
      "id": "24bd6a35",
      "metadata": {
        "id": "24bd6a35"
      },
      "outputs": [],
      "source": [
        "# YOUR CODE HERE"
      ]
    },
    {
      "cell_type": "markdown",
      "id": "a3ee367e",
      "metadata": {
        "id": "a3ee367e"
      },
      "source": [
        "> 3.3.5 Calculate the adjusted R-squared and identify the optimum regression coefficients using linear regression with standardisation. \n",
        ">\n",
        "> Hint: calculate the adjusted R-squared for the full model with linear regression and standardisation (as above). The try dropping either one of the columns: `GDP`, `Population` and all the year features and recalculate adjusted R-squared for every new model. Identify which combination of features gives the highest adjusted R-squared. \n",
        ">\n",
        ">Check out this documentation file on the [adjusted R-squared](https://www.statology.org/adjusted-r-squared-in-python/).\n",
        ">\n",
        "> Remember to use 42 as the **random_state**"
      ]
    },
    {
      "cell_type": "code",
      "execution_count": null,
      "id": "e3de67a1",
      "metadata": {
        "id": "e3de67a1"
      },
      "outputs": [],
      "source": [
        "# YOUR CODE HERE\n"
      ]
    },
    {
      "cell_type": "markdown",
      "id": "aae8c757",
      "metadata": {
        "id": "aae8c757"
      },
      "source": [
        ">3.3.6 Train the model when you drop `GDP` and calculate the adjusted R-squared."
      ]
    },
    {
      "cell_type": "code",
      "execution_count": null,
      "id": "1557cf4b",
      "metadata": {
        "id": "1557cf4b"
      },
      "outputs": [],
      "source": [
        "# YOUR CODE HERE"
      ]
    },
    {
      "cell_type": "markdown",
      "id": "7a82f734",
      "metadata": {
        "id": "7a82f734"
      },
      "source": [
        "> 3.3.7 Train the model when you drop `Population` and calculate the adjusted R-squared. Pay attention: you only need to drop `Population`, you need `GDP` back in there."
      ]
    },
    {
      "cell_type": "code",
      "execution_count": null,
      "id": "51c6e10f",
      "metadata": {
        "id": "51c6e10f"
      },
      "outputs": [],
      "source": [
        "# YOUR CODE HERE"
      ]
    },
    {
      "cell_type": "markdown",
      "id": "332e6b7e",
      "metadata": {
        "id": "332e6b7e"
      },
      "source": [
        ">3.3.8 Train the model when you drop all the year features and calculate the adjusted R-squared. Pay attention: you only need to drop all the year features, you need `GDP` and `Population` back in there. "
      ]
    },
    {
      "cell_type": "code",
      "execution_count": null,
      "id": "552b76da",
      "metadata": {
        "id": "552b76da"
      },
      "outputs": [],
      "source": [
        "# YOUR CODE HERE"
      ]
    }
  ],
  "metadata": {
    "kernelspec": {
      "display_name": "Python 3",
      "language": "python",
      "name": "python3"
    },
    "language_info": {
      "codemirror_mode": {
        "name": "ipython",
        "version": 3
      },
      "file_extension": ".py",
      "mimetype": "text/x-python",
      "name": "python",
      "nbconvert_exporter": "python",
      "pygments_lexer": "ipython3",
      "version": "3.8.8"
    },
    "toc": {
      "base_numbering": 1,
      "nav_menu": {},
      "number_sections": false,
      "sideBar": true,
      "skip_h1_title": true,
      "title_cell": "Table of Contents",
      "title_sidebar": "Contents",
      "toc_cell": false,
      "toc_position": {
        "height": "calc(100% - 180px)",
        "left": "10px",
        "top": "150px",
        "width": "288px"
      },
      "toc_section_display": true,
      "toc_window_display": false
    },
    "colab": {
      "provenance": [],
      "collapsed_sections": [
        "952cf424",
        "2077bdc4",
        "f2c37c70",
        "cddc6205",
        "26e59b86",
        "0ed88806"
      ]
    }
  },
  "nbformat": 4,
  "nbformat_minor": 5
}