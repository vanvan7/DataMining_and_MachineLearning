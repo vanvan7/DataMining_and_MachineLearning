{
  "nbformat": 4,
  "nbformat_minor": 0,
  "metadata": {
    "colab": {
      "provenance": [],
      "collapsed_sections": [],
      "authorship_tag": "ABX9TyPIDNSeKLqXJYilhgWNw7C+",
      "include_colab_link": true
    },
    "kernelspec": {
      "name": "python3",
      "display_name": "Python 3"
    },
    "language_info": {
      "name": "python"
    }
  },
  "cells": [
    {
      "cell_type": "markdown",
      "metadata": {
        "id": "view-in-github",
        "colab_type": "text"
      },
      "source": [
        "<a href=\"https://colab.research.google.com/github/vanvan7/DataMining_and_MachineLearning/blob/master/exercise1.ipynb\" target=\"_parent\"><img src=\"https://colab.research.google.com/assets/colab-badge.svg\" alt=\"Open In Colab\"/></a>"
      ]
    },
    {
      "cell_type": "code",
      "execution_count": null,
      "metadata": {
        "id": "RF_hp0_YTy1d"
      },
      "outputs": [],
      "source": []
    },
    {
      "cell_type": "markdown",
      "source": [
        "#Exercise 1: Quick CV\n",
        "\n",
        "--- \n",
        "\n",
        "##Goldie\n",
        "---\n",
        "<img src='https://upload.wikimedia.org/wikipedia/commons/9/93/Golden_Retriever_Carlos_%2810581910556%29.jpg' width=\"100\">\n",
        "\n",
        "goldie.butoldie@unil.ch\n",
        "\n",
        "##Experience \n",
        "---\n",
        "- Hunting cats and rats \n",
        "- Not follow given instructions \n",
        "\n"
      ],
      "metadata": {
        "id": "wtUCov3ET01t"
      }
    },
    {
      "cell_type": "code",
      "source": [],
      "metadata": {
        "id": "9ujuOoSUUn4K"
      },
      "execution_count": null,
      "outputs": []
    }
  ]
}