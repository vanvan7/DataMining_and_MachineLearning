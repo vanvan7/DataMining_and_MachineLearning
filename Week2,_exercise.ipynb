{
  "nbformat": 4,
  "nbformat_minor": 0,
  "metadata": {
    "colab": {
      "provenance": [],
      "authorship_tag": "ABX9TyOnP1Sv+tMT3VQHBhsmrTHU",
      "include_colab_link": true
    },
    "kernelspec": {
      "name": "python3",
      "display_name": "Python 3"
    },
    "language_info": {
      "name": "python"
    }
  },
  "cells": [
    {
      "cell_type": "markdown",
      "metadata": {
        "id": "view-in-github",
        "colab_type": "text"
      },
      "source": [
        "<a href=\"https://colab.research.google.com/github/vanvan7/DataMining_and_MachineLearning/blob/master/Week2%2C_exercise.ipynb\" target=\"_parent\"><img src=\"https://colab.research.google.com/assets/colab-badge.svg\" alt=\"Open In Colab\"/></a>"
      ]
    },
    {
      "cell_type": "markdown",
      "source": [
        "<img src=\"https://upload.wikimedia.org/wikipedia/commons/thumb/2/2b/Logo_Universit%C3%A9_de_Lausanne.svg/2560px-Logo_Universit%C3%A9_de_Lausanne.svg.png\" width=\"400\" >\n"
      ],
      "metadata": {
        "id": "2m9tTcnXBEeM"
      }
    },
    {
      "cell_type": "markdown",
      "source": [],
      "metadata": {
        "id": "0yuHUO7cBTEO"
      }
    },
    {
      "cell_type": "markdown",
      "source": [
        "##Université de Lausanne\n",
        "\n",
        "The University of Lausanne (UNIL; French: Université de Lausanne) in Lausanne, Switzerland was founded in 1537 as a school of Protestant theology,[1] before being made a university in 1890. \n",
        "\n",
        "###The University has 7 faculties\n",
        "- Faculty of Arts (Faculté des lettres)\n",
        "- Faculty of Biology and Medicine (FBM)\n",
        "- Faculty of Business and Economics (HEC), also called HEC Lausanne\n",
        "- Faculty of Geosciences and Environment (GSE)\n",
        "- Faculty of Law, Criminal Justice and Public Administration (FDSC) including the Swiss Graduate School of Public Administration\n",
        "- Faculty of Social and Political Sciences (SSP)\n",
        "- Faculty of Theology and Religious Studies (FTSR)\n",
        "\n",
        "The siteweb can be fount at this [link](https://unil.ch/index.html)"
      ],
      "metadata": {
        "id": "HIpzXk1kCAbE"
      }
    },
    {
      "cell_type": "markdown",
      "source": [
        "The campus is divided into 4 areas \n",
        "\n",
        "UNIL-Sorge | UNIL-Mouline | UNIL_Chamberonne | UNIL-Lac\n",
        "--- | --- | --- | ---\n",
        "Amphimax | Annexe de la Mouline | Anthropole | Centre neutique\n",
        "Amphimax | Annexe de la Mouline | Anthropole | Centre neutique\n",
        "Amphimax | Annexe de la Mouline | Anthropole | Centre neutique\n",
        "Amphimax | Annexe de la Mouline | Anthropole | Centre neutique\n",
        "Amphimax | etc. | etc. | etc.\n",
        "... | ... | ... | ...\n",
        "\n"
      ],
      "metadata": {
        "id": "aFgZUt0JFTyA"
      }
    },
    {
      "cell_type": "code",
      "source": [],
      "metadata": {
        "id": "IdTnrzq8K9EE"
      },
      "execution_count": null,
      "outputs": []
    }
  ]
}